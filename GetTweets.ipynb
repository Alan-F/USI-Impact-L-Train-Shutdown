{
 "cells": [
  {
   "cell_type": "code",
   "execution_count": 1,
   "metadata": {
    "collapsed": true
   },
   "outputs": [],
   "source": [
    "import sys\n",
    "import string\n",
    "import simplejson\n",
    "from twython import Twython, TwythonError\n",
    "import datetime\n",
    "import time\n",
    "import pickle\n",
    "\n",
    "import numpy as np\n",
    "import pandas as pd\n",
    "\n"
   ]
  },
  {
   "cell_type": "code",
   "execution_count": 2,
   "metadata": {
    "collapsed": true
   },
   "outputs": [],
   "source": [
    "t = Twython(app_key='', \n",
    "    app_secret='',\n",
    "    oauth_token='',\n",
    "    oauth_token_secret='')\n",
    "\n"
   ]
  },
  {
   "cell_type": "code",
   "execution_count": 52,
   "metadata": {
    "collapsed": false
   },
   "outputs": [],
   "source": [
    "#upload the userinfo pickle file\n",
    "homeusers = pickle.load( open( \"userLoc_GaussianMixture.p\", \"rb\" ) )\n"
   ]
  },
  {
   "cell_type": "code",
   "execution_count": 17,
   "metadata": {
    "collapsed": false
   },
   "outputs": [],
   "source": [
    "userdf = pd.DataFrame.from_dict(homeusers, 'index')"
   ]
  },
  {
   "cell_type": "code",
   "execution_count": 22,
   "metadata": {
    "collapsed": false
   },
   "outputs": [
    {
     "data": {
      "text/html": [
       "<div>\n",
       "<table border=\"1\" class=\"dataframe\">\n",
       "  <thead>\n",
       "    <tr style=\"text-align: right;\">\n",
       "      <th></th>\n",
       "      <th>0</th>\n",
       "    </tr>\n",
       "  </thead>\n",
       "  <tbody>\n",
       "    <tr>\n",
       "      <th>lancewhite</th>\n",
       "      <td>POINT (-73.86230676 40.76844627)</td>\n",
       "    </tr>\n",
       "    <tr>\n",
       "      <th>julietterichey</th>\n",
       "      <td>POINT (-73.968379035 40.679262225)</td>\n",
       "    </tr>\n",
       "  </tbody>\n",
       "</table>\n",
       "</div>"
      ],
      "text/plain": [
       "                                                 0\n",
       "lancewhite        POINT (-73.86230676 40.76844627)\n",
       "julietterichey  POINT (-73.968379035 40.679262225)"
      ]
     },
     "execution_count": 22,
     "metadata": {},
     "output_type": "execute_result"
    }
   ],
   "source": [
    "userdf.head(2)"
   ]
  },
  {
   "cell_type": "code",
   "execution_count": 44,
   "metadata": {
    "collapsed": false
   },
   "outputs": [],
   "source": [
    "#get the usernames from the index and put them in a list\n",
    "names = userdf.index\n",
    "# for testing - use only a subset of names list\n",
    "names = names[:5]\n",
    "names = names.tolist()"
   ]
  },
  {
   "cell_type": "code",
   "execution_count": 45,
   "metadata": {
    "collapsed": false
   },
   "outputs": [
    {
     "data": {
      "text/plain": [
       "['lancewhite', 'julietterichey', 'LaFemFatale', 'danreilly11', 'thejaymfd']"
      ]
     },
     "execution_count": 45,
     "metadata": {},
     "output_type": "execute_result"
    }
   ],
   "source": [
    "names"
   ]
  },
  {
   "cell_type": "code",
   "execution_count": 46,
   "metadata": {
    "collapsed": true
   },
   "outputs": [],
   "source": [
    "#use tywthon to get userinfo and put in a df\n",
    "usersinfo = pd.DataFrame(t.lookup_user(screen_name = names))"
   ]
  },
  {
   "cell_type": "code",
   "execution_count": 57,
   "metadata": {
    "collapsed": false
   },
   "outputs": [
    {
     "data": {
      "text/plain": [
       "836709571121020928"
      ]
     },
     "execution_count": 57,
     "metadata": {},
     "output_type": "execute_result"
    }
   ],
   "source": [
    "#test \n",
    "#get timeline\n",
    "#get starting twitter id from lancewhite (first name on list)\n",
    "timeline = pd.DataFrame(t.get_user_timeline(screen_name=\"lancewhite\", count=\"5\"))\n",
    "maxid=timeline.id.max()\n",
    "maxid"
   ]
  },
  {
   "cell_type": "code",
   "execution_count": 58,
   "metadata": {
    "collapsed": false
   },
   "outputs": [],
   "source": [
    "#cycle through all the ids from the user list\n",
    "\n",
    "for i in range(0,len(names)):\n",
    "    #get the most recent tweet from this user\n",
    "    timeline = pd.DataFrame(t.get_user_timeline(screen_name=\"lancewhite\", count=\"2\"))\n",
    "    maxid=timeline.id.max()\n",
    "    lid=[maxid]\n",
    "    #call this user 16 times, each time pulling 200 tweets (including retweets)\n",
    "    for call in range(0, 16):# lid[-1] pulls the last item in the list\n",
    "        nextset = t.get_user_timeline(screen_name=names[i], count=\"200\",max_id=lid[-1])\n",
    "        if 'coordinates' in nextset:\n",
    "            nextset['coordinates'].append(nextset['attributes']['bounding_box']['coordinates'])\n",
    "        df = pd.DataFrame(nextset)\n",
    "        usertweets=pd.concat([df,usertweets])\n",
    "        #append the last id to\n",
    "        lid.append(usertweets[\"id\"].min())\n",
    "    time.sleep(100)"
   ]
  },
  {
   "cell_type": "code",
   "execution_count": 59,
   "metadata": {
    "collapsed": false,
    "scrolled": true
   },
   "outputs": [
    {
     "name": "stdout",
     "output_type": "stream",
     "text": [
      "2950\n"
     ]
    },
    {
     "data": {
      "text/plain": [
       "Index([u'contributors', u'coordinates', u'created_at', u'entities',\n",
       "       u'extended_entities', u'favorite_count', u'favorited', u'geo', u'id',\n",
       "       u'id_str', u'in_reply_to_screen_name', u'in_reply_to_status_id',\n",
       "       u'in_reply_to_status_id_str', u'in_reply_to_user_id',\n",
       "       u'in_reply_to_user_id_str', u'is_quote_status', u'lang', u'place',\n",
       "       u'possibly_sensitive', u'quoted_status', u'quoted_status_id',\n",
       "       u'quoted_status_id_str', u'retweet_count', u'retweeted',\n",
       "       u'retweeted_status', u'source', u'text', u'truncated', u'user'],\n",
       "      dtype='object')"
      ]
     },
     "execution_count": 59,
     "metadata": {},
     "output_type": "execute_result"
    }
   ],
   "source": [
    "#check number of unique tweet ids\n",
    "print usertweets.id.nunique()\n",
    "#Most recent tweet:\n",
    "usertweets.id.max()\n",
    "#verify\n",
    "usertweets[['coordinates', 'place']].tail(5)\n",
    "#get column names\n",
    "usertweets.columns"
   ]
  },
  {
   "cell_type": "code",
   "execution_count": 60,
   "metadata": {
    "collapsed": false
   },
   "outputs": [
    {
     "data": {
      "text/html": [
       "<div>\n",
       "<table border=\"1\" class=\"dataframe\">\n",
       "  <thead>\n",
       "    <tr style=\"text-align: right;\">\n",
       "      <th></th>\n",
       "      <th>contributors</th>\n",
       "      <th>coordinates</th>\n",
       "      <th>created_at</th>\n",
       "      <th>entities</th>\n",
       "      <th>extended_entities</th>\n",
       "      <th>favorite_count</th>\n",
       "      <th>favorited</th>\n",
       "      <th>geo</th>\n",
       "      <th>id</th>\n",
       "      <th>id_str</th>\n",
       "      <th>...</th>\n",
       "      <th>quoted_status</th>\n",
       "      <th>quoted_status_id</th>\n",
       "      <th>quoted_status_id_str</th>\n",
       "      <th>retweet_count</th>\n",
       "      <th>retweeted</th>\n",
       "      <th>retweeted_status</th>\n",
       "      <th>source</th>\n",
       "      <th>text</th>\n",
       "      <th>truncated</th>\n",
       "      <th>user</th>\n",
       "    </tr>\n",
       "  </thead>\n",
       "  <tbody>\n",
       "    <tr>\n",
       "      <th>197</th>\n",
       "      <td>None</td>\n",
       "      <td>None</td>\n",
       "      <td>Sun Dec 18 15:47:14 +0000 2016</td>\n",
       "      <td>{u'symbols': [], u'user_mentions': [{u'id': 14...</td>\n",
       "      <td>NaN</td>\n",
       "      <td>0</td>\n",
       "      <td>False</td>\n",
       "      <td>None</td>\n",
       "      <td>810511752081395712</td>\n",
       "      <td>810511752081395712</td>\n",
       "      <td>...</td>\n",
       "      <td>NaN</td>\n",
       "      <td>NaN</td>\n",
       "      <td>NaN</td>\n",
       "      <td>0</td>\n",
       "      <td>False</td>\n",
       "      <td>NaN</td>\n",
       "      <td>&lt;a href=\"https://untappd.com\" rel=\"nofollow\"&gt;U...</td>\n",
       "      <td>I just earned the 'Wheel of Styles (Level 10)'...</td>\n",
       "      <td>False</td>\n",
       "      <td>{u'follow_request_sent': False, u'has_extended...</td>\n",
       "    </tr>\n",
       "    <tr>\n",
       "      <th>198</th>\n",
       "      <td>None</td>\n",
       "      <td>None</td>\n",
       "      <td>Sun Dec 18 15:47:11 +0000 2016</td>\n",
       "      <td>{u'symbols': [], u'user_mentions': [{u'id': 14...</td>\n",
       "      <td>NaN</td>\n",
       "      <td>0</td>\n",
       "      <td>False</td>\n",
       "      <td>None</td>\n",
       "      <td>810511737132875776</td>\n",
       "      <td>810511737132875776</td>\n",
       "      <td>...</td>\n",
       "      <td>NaN</td>\n",
       "      <td>NaN</td>\n",
       "      <td>NaN</td>\n",
       "      <td>0</td>\n",
       "      <td>False</td>\n",
       "      <td>NaN</td>\n",
       "      <td>&lt;a href=\"https://untappd.com\" rel=\"nofollow\"&gt;U...</td>\n",
       "      <td>I just earned the 'Heavy Weight  (Level 13)' b...</td>\n",
       "      <td>False</td>\n",
       "      <td>{u'follow_request_sent': False, u'has_extended...</td>\n",
       "    </tr>\n",
       "  </tbody>\n",
       "</table>\n",
       "<p>2 rows × 29 columns</p>\n",
       "</div>"
      ],
      "text/plain": [
       "    contributors coordinates                      created_at  \\\n",
       "197         None        None  Sun Dec 18 15:47:14 +0000 2016   \n",
       "198         None        None  Sun Dec 18 15:47:11 +0000 2016   \n",
       "\n",
       "                                              entities extended_entities  \\\n",
       "197  {u'symbols': [], u'user_mentions': [{u'id': 14...               NaN   \n",
       "198  {u'symbols': [], u'user_mentions': [{u'id': 14...               NaN   \n",
       "\n",
       "     favorite_count favorited   geo                  id              id_str  \\\n",
       "197               0     False  None  810511752081395712  810511752081395712   \n",
       "198               0     False  None  810511737132875776  810511737132875776   \n",
       "\n",
       "                           ...                         quoted_status  \\\n",
       "197                        ...                                   NaN   \n",
       "198                        ...                                   NaN   \n",
       "\n",
       "    quoted_status_id quoted_status_id_str retweet_count retweeted  \\\n",
       "197              NaN                  NaN             0     False   \n",
       "198              NaN                  NaN             0     False   \n",
       "\n",
       "    retweeted_status                                             source  \\\n",
       "197              NaN  <a href=\"https://untappd.com\" rel=\"nofollow\">U...   \n",
       "198              NaN  <a href=\"https://untappd.com\" rel=\"nofollow\">U...   \n",
       "\n",
       "                                                  text truncated  \\\n",
       "197  I just earned the 'Wheel of Styles (Level 10)'...     False   \n",
       "198  I just earned the 'Heavy Weight  (Level 13)' b...     False   \n",
       "\n",
       "                                                  user  \n",
       "197  {u'follow_request_sent': False, u'has_extended...  \n",
       "198  {u'follow_request_sent': False, u'has_extended...  \n",
       "\n",
       "[2 rows x 29 columns]"
      ]
     },
     "execution_count": 60,
     "metadata": {},
     "output_type": "execute_result"
    }
   ],
   "source": [
    "usertweets.tail(2)"
   ]
  },
  {
   "cell_type": "code",
   "execution_count": 70,
   "metadata": {
    "collapsed": false
   },
   "outputs": [],
   "source": [
    "#push results to pickle file\n"
   ]
  },
  {
   "cell_type": "code",
   "execution_count": 71,
   "metadata": {
    "collapsed": true
   },
   "outputs": [],
   "source": [
    "#plot lat to long\n"
   ]
  }
 ],
 "metadata": {
  "anaconda-cloud": {},
  "kernelspec": {
   "display_name": "Python [conda root]",
   "language": "python",
   "name": "conda-root-py"
  },
  "language_info": {
   "codemirror_mode": {
    "name": "ipython",
    "version": 2
   },
   "file_extension": ".py",
   "mimetype": "text/x-python",
   "name": "python",
   "nbconvert_exporter": "python",
   "pygments_lexer": "ipython2",
   "version": "2.7.12"
  }
 },
 "nbformat": 4,
 "nbformat_minor": 1
}
