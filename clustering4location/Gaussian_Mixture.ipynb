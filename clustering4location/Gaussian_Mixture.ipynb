{
 "cells": [
  {
   "cell_type": "code",
   "execution_count": 47,
   "metadata": {
    "collapsed": true
   },
   "outputs": [],
   "source": [
    "import pandas as pd\n",
    "import cPickle as pickle\n",
    "\n",
    "import numpy as np\n",
    "import geopandas as gpd\n",
    "from sklearn.metrics import silhouette_samples, silhouette_score\n",
    "from sklearn.mixture import GaussianMixture\n",
    "\n",
    "from shapely.geometry import Point, MultiPoint"
   ]
  },
  {
   "cell_type": "markdown",
   "metadata": {},
   "source": [
    "## Load"
   ]
  },
  {
   "cell_type": "code",
   "execution_count": 2,
   "metadata": {
    "collapsed": true
   },
   "outputs": [],
   "source": [
    "userLoc = pd.read_pickle(\"./USI-Impact-L-Train-Shutdown/data/userLoc.p\")\n",
    "# userLoc[\"MrNaassir\"][1].x; userLoc[\"MrNaassir\"][1].y"
   ]
  },
  {
   "cell_type": "markdown",
   "metadata": {},
   "source": [
    "## Format"
   ]
  },
  {
   "cell_type": "code",
   "execution_count": 9,
   "metadata": {
    "collapsed": false
   },
   "outputs": [],
   "source": [
    "geo = {}\n",
    "for user, pList in userLoc.iteritems():\n",
    "    X = []\n",
    "    for p in pList:\n",
    "        X.append([p.y, p.x])\n",
    "    geo[user] = X\n",
    "# X = geo[\"MrNaassir\"]"
   ]
  },
  {
   "cell_type": "markdown",
   "metadata": {},
   "source": [
    "## Function: Gaussian Mixture Clustering"
   ]
  },
  {
   "cell_type": "code",
   "execution_count": 150,
   "metadata": {
    "collapsed": false
   },
   "outputs": [],
   "source": [
    "def homeLoc(user):\n",
    "    X = geo[user]\n",
    "    # At least sent 4 tweets, else return centroid directly. \n",
    "    if len(X) < 4:\n",
    "        return MultiPoint(X).centroid\n",
    "    \n",
    "    maxK = 10\n",
    "    silhouScore = 0\n",
    "    # At least ONE cluster\n",
    "    finalClusters = 1 \n",
    "\n",
    "    for n_clusters in range(2, min(maxK, len(X)-1)):\n",
    "        #run the clustering\n",
    "        gm=GaussianMixture(n_components=n_clusters, random_state=324)\n",
    "        #assign labels of clusters\n",
    "        cluster_labels=gm.fit(X).predict(X)\n",
    "        #calculate average for each cluster\n",
    "        if len(set(cluster_labels)) != 1:\n",
    "            silhouette_avg = silhouette_score(X, cluster_labels)\n",
    "            if silhouette_avg > silhouScore:\n",
    "                silhouScore = silhouette_avg\n",
    "                finalClusters = n_clusters\n",
    "\n",
    "\n",
    "    gm=GaussianMixture(n_components=finalClusters, random_state=324)\n",
    "    res1=gm.fit(X).predict(X)\n",
    "    target_cluster = pd.Series(res1).value_counts().argmax()\n",
    "    label = res1 == target_cluster\n",
    "\n",
    "    X = pd.Series(X).loc[label]\n",
    "    XX = list(X)\n",
    "    return MultiPoint(XX).centroid\n",
    "\n",
    "# homeLoc(\"MrNaassir\")\n",
    "# homeLoc(\"lancewhite\")"
   ]
  },
  {
   "cell_type": "markdown",
   "metadata": {},
   "source": [
    "## Run "
   ]
  },
  {
   "cell_type": "code",
   "execution_count": 151,
   "metadata": {
    "collapsed": false
   },
   "outputs": [
    {
     "data": {
      "text/plain": [
       "31337"
      ]
     },
     "execution_count": 151,
     "metadata": {},
     "output_type": "execute_result"
    }
   ],
   "source": [
    "len(geo.keys())"
   ]
  },
  {
   "cell_type": "code",
   "execution_count": 162,
   "metadata": {
    "collapsed": false
   },
   "outputs": [
    {
     "name": "stdout",
     "output_type": "stream",
     "text": [
      "100.0 %\n"
     ]
    }
   ],
   "source": [
    "home = {}\n",
    "for i, user in enumerate(geo.keys()):\n",
    "    #print user\n",
    "    print \"\\r\", 100.0*(i+1)/len(geo.keys()), \"%\",\n",
    "    home[user] = homeLoc(user)"
   ]
  },
  {
   "cell_type": "markdown",
   "metadata": {},
   "source": [
    "## Output"
   ]
  },
  {
   "cell_type": "code",
   "execution_count": 163,
   "metadata": {
    "collapsed": true
   },
   "outputs": [],
   "source": [
    "with open('./USI-Impact-L-Train-Shutdown/data/userLoc_GaussianMixture.p', 'wb') as f:\n",
    "    pickle.dump(home, f)"
   ]
  }
 ],
 "metadata": {
  "anaconda-cloud": {},
  "kernelspec": {
   "display_name": "Python [default]",
   "language": "python",
   "name": "python2"
  },
  "language_info": {
   "codemirror_mode": {
    "name": "ipython",
    "version": 2
   },
   "file_extension": ".py",
   "mimetype": "text/x-python",
   "name": "python",
   "nbconvert_exporter": "python",
   "pygments_lexer": "ipython2",
   "version": "2.7.12"
  }
 },
 "nbformat": 4,
 "nbformat_minor": 1
}
