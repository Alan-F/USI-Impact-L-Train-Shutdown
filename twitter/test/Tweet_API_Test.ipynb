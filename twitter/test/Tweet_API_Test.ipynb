{
 "cells": [
  {
   "cell_type": "code",
   "execution_count": 210,
   "metadata": {
    "collapsed": true
   },
   "outputs": [],
   "source": [
    "__author__ = \"Dongjie Fan\"\n",
    "__doc__ = \"Fetch Twitter Data by tweepy.\"\n",
    "\n",
    "import tweepy\n",
    "import cPickle as pickle"
   ]
  },
  {
   "cell_type": "code",
   "execution_count": null,
   "metadata": {
    "collapsed": true
   },
   "outputs": [],
   "source": [
    "# API = {}\n",
    "# API['API_KEY'] = API_KEY\n",
    "# API['API_SECRET'] = API_SECRET\n",
    "# API['ACCESS_TOKEN'] = ACCESS_TOKEN\n",
    "# API['ACCESS_SECRET'] = ACCESS_SECRET\n",
    "\n",
    "# with open('twitter_api.p', 'wb') as fp:\n",
    "#     pickle.dump(API, fp)\n",
    "\n",
    "with open('twitter_api.p', 'rw') as f:\n",
    "    API = pickle.load(f)\n",
    "    \n",
    "API_KEY = API['API_KEY']\n",
    "API_SECRET = API['API_SECRET']"
   ]
  },
  {
   "cell_type": "code",
   "execution_count": 2,
   "metadata": {
    "collapsed": true
   },
   "outputs": [],
   "source": [
    "#API_KEY = Your API_KEY\n",
    "#API_SECRET = Your API_SECRET\n",
    "#ACCESS_TOKEN = Your ACCESS_TOKEN\n",
    "#ACCESS_SECRET = Your ACCESS_SECRET"
   ]
  },
  {
   "cell_type": "code",
   "execution_count": 8,
   "metadata": {
    "collapsed": true
   },
   "outputs": [],
   "source": [
    "auth = tweepy.OAuthHandler(API_KEY, API_SECRET)\n",
    "auth.set_access_token(ACCESS_TOKEN, ACCESS_SECRET)"
   ]
  },
  {
   "cell_type": "code",
   "execution_count": 11,
   "metadata": {
    "collapsed": false
   },
   "outputs": [],
   "source": [
    "# public_tweets = api.home_timeline()\n",
    "# for tweet in public_tweets:\n",
    "#     print tweet.text"
   ]
  },
  {
   "cell_type": "code",
   "execution_count": 110,
   "metadata": {
    "collapsed": false
   },
   "outputs": [],
   "source": [
    "user = api.get_user('ML_toparticles')\n",
    "user.id"
   ]
  },
  {
   "cell_type": "code",
   "execution_count": 180,
   "metadata": {
    "collapsed": false
   },
   "outputs": [
    {
     "data": {
      "text/plain": [
       "200"
      ]
     },
     "execution_count": 180,
     "metadata": {},
     "output_type": "execute_result"
    }
   ],
   "source": [
    "data = api.user_timeline('ML_toparticles', exclude_replies = True, include_rts= True, \\ \n",
    "                         contributor_details = False, count = 200)\n",
    "len(data)"
   ]
  },
  {
   "cell_type": "code",
   "execution_count": 176,
   "metadata": {
    "collapsed": false
   },
   "outputs": [
    {
     "name": "stdout",
     "output_type": "stream",
     "text": [
      "n= 0\n"
     ]
    }
   ],
   "source": [
    "n = 0\n",
    "for i in xrange(len(data)):\n",
    "    tw = data[i]\n",
    "    if tw.coordinates: # tw.coordinates exist\n",
    "        n += 1\n",
    "        print i\n",
    "print \"n=\", n"
   ]
  },
  {
   "cell_type": "code",
   "execution_count": 211,
   "metadata": {
    "collapsed": false
   },
   "outputs": [
    {
     "data": {
      "text/plain": [
       "u'AI and the Customer Experience Conundrum - Read IT Quik - AnalyticsWeek https://t.co/c4yGdBZ4GC https://t.co/oJax5N8uWA'"
      ]
     },
     "execution_count": 211,
     "metadata": {},
     "output_type": "execute_result"
    }
   ],
   "source": [
    "tw = data[124]\n",
    "tw.text"
   ]
  }
 ],
 "metadata": {
  "anaconda-cloud": {},
  "kernelspec": {
   "display_name": "Python [default]",
   "language": "python",
   "name": "python2"
  },
  "language_info": {
   "codemirror_mode": {
    "name": "ipython",
    "version": 2
   },
   "file_extension": ".py",
   "mimetype": "text/x-python",
   "name": "python",
   "nbconvert_exporter": "python",
   "pygments_lexer": "ipython2",
   "version": "2.7.12"
  }
 },
 "nbformat": 4,
 "nbformat_minor": 1
}
