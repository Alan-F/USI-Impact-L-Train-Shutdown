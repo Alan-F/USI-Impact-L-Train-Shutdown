{
 "cells": [
  {
   "cell_type": "code",
   "execution_count": 26,
   "metadata": {
    "collapsed": false
   },
   "outputs": [
    {
     "name": "stdout",
     "output_type": "stream",
     "text": [
      "\n"
     ]
    }
   ],
   "source": [
    "__author__ = \"Dongjie Fan\"\n",
    "import pandas as pd\n",
    "import numpy as np\n",
    "from shapely.geometry import Point, MultiPoint\n",
    "import yaml\n",
    "import cPickle as pickle\n",
    "import geopandas as gpd\n",
    "from sklearn.metrics import silhouette_samples, silhouette_score\n",
    "from sklearn.mixture import GaussianMixture"
   ]
  },
  {
   "cell_type": "code",
   "execution_count": 2,
   "metadata": {
    "collapsed": false
   },
   "outputs": [],
   "source": [
    "tw = pd.read_csv(\"./tw_without_duplication.csv\")\n",
    "tw['Tweeted_At'] = pd.to_datetime(tw['Tweeted_At'])"
   ]
  },
  {
   "cell_type": "code",
   "execution_count": 3,
   "metadata": {
    "collapsed": false
   },
   "outputs": [],
   "source": [
    "def fetch_hour(dt):\n",
    "    return dt.map(lambda x: x.hour)\n",
    "\n",
    "def fetch_weeday(dt):\n",
    "    return dt.map(lambda x: x.weekday_name)\n",
    "\n",
    "tw['Hour'] = fetch_hour(tw['Tweeted_At'])\n",
    "tw['wd'] = fetch_weeday(tw['Tweeted_At'])"
   ]
  },
  {
   "cell_type": "code",
   "execution_count": 4,
   "metadata": {
    "collapsed": false
   },
   "outputs": [
    {
     "name": "stdout",
     "output_type": "stream",
     "text": [
      "473629\n",
      "69097\n"
     ]
    }
   ],
   "source": [
    "print tw.shape[0]\n",
    "print len(tw['Username'].unique())"
   ]
  },
  {
   "cell_type": "markdown",
   "metadata": {},
   "source": [
    "<br/><br/><br/><br/>\n",
    "### tw_work"
   ]
  },
  {
   "cell_type": "code",
   "execution_count": 5,
   "metadata": {
    "collapsed": false
   },
   "outputs": [
    {
     "name": "stdout",
     "output_type": "stream",
     "text": [
      "[12, 13, 14, 15, 16]\n",
      "['Tuesday', 'Wednesday', 'Thursday', 'Monday', 'Friday']\n"
     ]
    }
   ],
   "source": [
    "hour4work = range(12,17) \n",
    "print hour4work\n",
    "weekday4work = ['Tuesday', 'Wednesday', 'Thursday', 'Monday', 'Friday']\n",
    "print weekday4work"
   ]
  },
  {
   "cell_type": "code",
   "execution_count": 6,
   "metadata": {
    "collapsed": false
   },
   "outputs": [
    {
     "name": "stdout",
     "output_type": "stream",
     "text": [
      "# of Tweets: 51119\n",
      "% of Tweets: 10.79%\n",
      "# of Users: 18113\n",
      "% of Users: 26.21%\n"
     ]
    }
   ],
   "source": [
    "tw_work = tw.copy()\n",
    "tw_work = tw_work[tw_work['Hour'].isin(hour4work)]\n",
    "tw_work = tw_work[tw_work['wd'].isin(weekday4work)]\n",
    "tw_work.reset_index(drop=True, inplace=True)\n",
    "print \"# of Tweets: {}\\n% of Tweets: {:.2f}%\".format(tw_work.shape[0], 100.0 * tw_work.shape[0]/tw.shape[0])\n",
    "print \"# of Users: {}\\n% of Users: {:.2f}%\".format(len(tw_work['Username'].unique()), \\\n",
    "                100.0 * len(tw_work['Username'].unique())/len(tw['Username'].unique()))"
   ]
  },
  {
   "cell_type": "code",
   "execution_count": 7,
   "metadata": {
    "collapsed": true
   },
   "outputs": [],
   "source": [
    "users = tw_work['Username'].unique()"
   ]
  },
  {
   "cell_type": "code",
   "execution_count": 8,
   "metadata": {
    "collapsed": true
   },
   "outputs": [],
   "source": [
    "tw_work['latlon'] = tw_work['Geo'].map(lambda x: yaml.load(x)[\"u'coordinates'\"])\n",
    "tw_work['geometry'] = tw_work['latlon'].map(lambda x: Point(x[0], x[1]))"
   ]
  },
  {
   "cell_type": "code",
   "execution_count": 13,
   "metadata": {
    "collapsed": true
   },
   "outputs": [],
   "source": [
    "# import cPickle as pickle\n",
    "with open(\"./userLoc_Work.p\", 'wb') as f:\n",
    "    pickle.dump(userLoc_Work, f)"
   ]
  },
  {
   "cell_type": "markdown",
   "metadata": {},
   "source": [
    "<br/><br/><br/><br/><br/>"
   ]
  },
  {
   "cell_type": "markdown",
   "metadata": {},
   "source": [
    "### tw_home "
   ]
  },
  {
   "cell_type": "code",
   "execution_count": 14,
   "metadata": {
    "collapsed": false
   },
   "outputs": [
    {
     "name": "stdout",
     "output_type": "stream",
     "text": [
      "[22, 23, 0, 1, 2, 6, 7, 8]\n",
      "['Tuesday', 'Wednesday', 'Thursday', 'Monday']\n"
     ]
    }
   ],
   "source": [
    "hour4home = range(22,24,1) + range(0,3,1) + range(6,9,1)\n",
    "print hour4home\n",
    "weekday4home = ['Tuesday', 'Wednesday', 'Thursday', 'Monday']\n",
    "print weekday4home"
   ]
  },
  {
   "cell_type": "code",
   "execution_count": 15,
   "metadata": {
    "collapsed": false
   },
   "outputs": [
    {
     "name": "stdout",
     "output_type": "stream",
     "text": [
      "# of Tweets: 117719\n",
      "% of Tweets: 24.85%\n",
      "# of Users: 31337\n",
      "% of Users: 45.35%\n"
     ]
    }
   ],
   "source": [
    "tw_home = tw.copy()\n",
    "tw_home = tw_home[tw_home['Hour'].isin(hour4home)]\n",
    "tw_home = tw_home[tw_home['wd'].isin(weekday4home)]\n",
    "tw_home.reset_index(drop=True, inplace=True)\n",
    "print \"# of Tweets: {}\\n% of Tweets: {:.2f}%\".format(tw_home.shape[0], 100.0 * tw_home.shape[0]/tw.shape[0])\n",
    "print \"# of Users: {}\\n% of Users: {:.2f}%\".format(len(tw_home['Username'].unique()), \\\n",
    "                100.0 * len(tw_home['Username'].unique())/len(tw['Username'].unique()))"
   ]
  },
  {
   "cell_type": "code",
   "execution_count": 16,
   "metadata": {
    "collapsed": false
   },
   "outputs": [],
   "source": [
    "users = tw_home['Username'].unique()"
   ]
  },
  {
   "cell_type": "code",
   "execution_count": 17,
   "metadata": {
    "collapsed": false
   },
   "outputs": [],
   "source": [
    "tw_home['latlon'] = tw_home['Geo'].map(lambda x: yaml.load(x)[\"u'coordinates'\"])\n",
    "tw_home['geometry'] = tw_home['latlon'].map(lambda x: Point(x[0], x[1]))"
   ]
  },
  {
   "cell_type": "code",
   "execution_count": 18,
   "metadata": {
    "collapsed": false
   },
   "outputs": [],
   "source": [
    "userLoc_Home = {}\n",
    "for user in users:\n",
    "    userLoc_Home[user] = list(tw_home[tw_home['Username'] == user]['geometry'])"
   ]
  },
  {
   "cell_type": "code",
   "execution_count": 19,
   "metadata": {
    "collapsed": true
   },
   "outputs": [],
   "source": [
    "# import cPickle as pickle\n",
    "with open(\"./userLoc_Home.p\", 'wb') as f:\n",
    "    pickle.dump(userLoc_Home, f)"
   ]
  },
  {
   "cell_type": "markdown",
   "metadata": {},
   "source": [
    "<br/><br/><br/><br/>"
   ]
  },
  {
   "cell_type": "markdown",
   "metadata": {},
   "source": [
    "### Function: Gaussian Mixture Clustering"
   ]
  },
  {
   "cell_type": "code",
   "execution_count": 24,
   "metadata": {
    "collapsed": false
   },
   "outputs": [
    {
     "name": "stdout",
     "output_type": "stream",
     "text": [
      "\n"
     ]
    }
   ],
   "source": [
    "def Location(user):\n",
    "    X = geo[user]\n",
    "    # At least sent 4 tweets, else return centroid directly. \n",
    "    if len(X) < 4:\n",
    "        return MultiPoint(X).centroid\n",
    "    \n",
    "    maxK = 10\n",
    "    silhouScore = 0\n",
    "    # At least ONE cluster\n",
    "    finalClusters = 1 \n",
    "\n",
    "    for n_clusters in range(2, min(maxK, len(X)-1)):\n",
    "        #run the clustering\n",
    "        gm=GaussianMixture(n_components=n_clusters, random_state=324)\n",
    "        #assign labels of clusters\n",
    "        cluster_labels=gm.fit(X).predict(X)\n",
    "        #calculate average for each cluster\n",
    "        if len(set(cluster_labels)) != 1:\n",
    "            silhouette_avg = silhouette_score(X, cluster_labels)\n",
    "            if silhouette_avg > silhouScore:\n",
    "                silhouScore = silhouette_avg\n",
    "                finalClusters = n_clusters\n",
    "\n",
    "\n",
    "    gm=GaussianMixture(n_components=finalClusters, random_state=324)\n",
    "    res1=gm.fit(X).predict(X)\n",
    "    target_cluster = pd.Series(res1).value_counts().argmax()\n",
    "    label = res1 == target_cluster\n",
    "\n",
    "    X = pd.Series(X).loc[label]\n",
    "    XX = list(X)\n",
    "    return MultiPoint(XX).centroid"
   ]
  },
  {
   "cell_type": "markdown",
   "metadata": {},
   "source": [
    "### Format & Run"
   ]
  },
  {
   "cell_type": "markdown",
   "metadata": {},
   "source": [
    "#### Work"
   ]
  },
  {
   "cell_type": "code",
   "execution_count": 27,
   "metadata": {
    "collapsed": false
   },
   "outputs": [
    {
     "name": "stdout",
     "output_type": "stream",
     "text": [
      "18113\n",
      "100.0 %\n"
     ]
    }
   ],
   "source": [
    "geo = {}\n",
    "for user, pList in userLoc_Work.iteritems():\n",
    "    X = []\n",
    "    for p in pList:\n",
    "        X.append([p.y, p.x])\n",
    "    geo[user] = X\n",
    "    \n",
    "print len(geo.keys())\n",
    "work = {}\n",
    "for i, user in enumerate(geo.keys()):\n",
    "    #print user\n",
    "    print \"\\r\", 100.0*(i+1)/len(geo.keys()), \"%\",\n",
    "    work[user] = Location(user)"
   ]
  },
  {
   "cell_type": "markdown",
   "metadata": {},
   "source": [
    "#### Home"
   ]
  },
  {
   "cell_type": "code",
   "execution_count": 28,
   "metadata": {
    "collapsed": false
   },
   "outputs": [
    {
     "name": "stdout",
     "output_type": "stream",
     "text": [
      "31337\n",
      "100.0 %\n"
     ]
    }
   ],
   "source": [
    "geo = {}\n",
    "for user, pList in userLoc_Home.iteritems():\n",
    "    X = []\n",
    "    for p in pList:\n",
    "        X.append([p.y, p.x])\n",
    "    geo[user] = X\n",
    "    \n",
    "print len(geo.keys())\n",
    "home = {}\n",
    "for i, user in enumerate(geo.keys()):\n",
    "    #print user\n",
    "    print \"\\r\", 100.0*(i+1)/len(geo.keys()), \"%\",\n",
    "    home[user] = Location(user)"
   ]
  },
  {
   "cell_type": "markdown",
   "metadata": {},
   "source": []
  },
  {
   "cell_type": "markdown",
   "metadata": {},
   "source": [
    "### Output"
   ]
  },
  {
   "cell_type": "code",
   "execution_count": 69,
   "metadata": {
    "collapsed": true
   },
   "outputs": [],
   "source": [
    "df_work = pd.DataFrame.from_dict(work, orient='index')\n",
    "df_work.rename(columns={0: \"Work\"}, inplace=True)\n",
    "\n",
    "df_home = pd.DataFrame.from_dict(home, orient='index')\n",
    "df_home.rename(columns={0: \"Home\"}, inplace=True)"
   ]
  },
  {
   "cell_type": "code",
   "execution_count": 70,
   "metadata": {
    "collapsed": false
   },
   "outputs": [
    {
     "name": "stdout",
     "output_type": "stream",
     "text": [
      "inner_join\n",
      "inner 9326\n",
      "home 31337\n",
      "work 18113\n",
      "\n",
      "home & work: leftjoin\n",
      "home_leftjoin 31337\n",
      "home 31337\n",
      "work 18113\n"
     ]
    }
   ],
   "source": [
    "df_inner = df_home.join(df_work, how='inner')\n",
    "print \"inner_join\"\n",
    "print \"inner\", len(df_inner)\n",
    "print \"home\", len(df_home)\n",
    "print \"work\", len(df_work)\n",
    "\n",
    "df_home_leftjoin = df_home.join(df_work, how='left')\n",
    "print \"\\nhome & work: leftjoin\"\n",
    "print \"home_leftjoin\", len(df_home_leftjoin)\n",
    "print \"home\", len(df_home)\n",
    "print \"work\", len(df_work)"
   ]
  },
  {
   "cell_type": "markdown",
   "metadata": {},
   "source": [
    "#### inner join"
   ]
  },
  {
   "cell_type": "code",
   "execution_count": 71,
   "metadata": {
    "collapsed": false
   },
   "outputs": [
    {
     "data": {
      "text/html": [
       "<div>\n",
       "<table border=\"1\" class=\"dataframe\">\n",
       "  <thead>\n",
       "    <tr style=\"text-align: right;\">\n",
       "      <th></th>\n",
       "      <th>Home</th>\n",
       "      <th>Work</th>\n",
       "    </tr>\n",
       "  </thead>\n",
       "  <tbody>\n",
       "    <tr>\n",
       "      <th>carlscrush</th>\n",
       "      <td>POINT (-73.97339207333334 40.75688146)</td>\n",
       "      <td>POINT (-74.00140622666667 40.73572657666667)</td>\n",
       "    </tr>\n",
       "    <tr>\n",
       "      <th>mayataughtme</th>\n",
       "      <td>POINT (-73.79655447499999 40.71864909999999)</td>\n",
       "      <td>POINT (-73.7965552 40.7186549)</td>\n",
       "    </tr>\n",
       "  </tbody>\n",
       "</table>\n",
       "</div>"
      ],
      "text/plain": [
       "                                                      Home  \\\n",
       "carlscrush          POINT (-73.97339207333334 40.75688146)   \n",
       "mayataughtme  POINT (-73.79655447499999 40.71864909999999)   \n",
       "\n",
       "                                                      Work  \n",
       "carlscrush    POINT (-74.00140622666667 40.73572657666667)  \n",
       "mayataughtme                POINT (-73.7965552 40.7186549)  "
      ]
     },
     "execution_count": 71,
     "metadata": {},
     "output_type": "execute_result"
    }
   ],
   "source": [
    "df_inner.head(2)"
   ]
  },
  {
   "cell_type": "code",
   "execution_count": 75,
   "metadata": {
    "collapsed": false
   },
   "outputs": [
    {
     "data": {
      "text/html": [
       "<div>\n",
       "<table border=\"1\" class=\"dataframe\">\n",
       "  <thead>\n",
       "    <tr style=\"text-align: right;\">\n",
       "      <th></th>\n",
       "      <th>Home</th>\n",
       "      <th>Work</th>\n",
       "      <th>Hx</th>\n",
       "      <th>Hy</th>\n",
       "      <th>Wx</th>\n",
       "      <th>Wy</th>\n",
       "    </tr>\n",
       "  </thead>\n",
       "  <tbody>\n",
       "    <tr>\n",
       "      <th>carlscrush</th>\n",
       "      <td>POINT (-73.97339207333334 40.75688146)</td>\n",
       "      <td>POINT (-74.00140622666667 40.73572657666667)</td>\n",
       "      <td>-73.973392</td>\n",
       "      <td>40.756881</td>\n",
       "      <td>-74.001406</td>\n",
       "      <td>40.735727</td>\n",
       "    </tr>\n",
       "    <tr>\n",
       "      <th>mayataughtme</th>\n",
       "      <td>POINT (-73.79655447499999 40.71864909999999)</td>\n",
       "      <td>POINT (-73.7965552 40.7186549)</td>\n",
       "      <td>-73.796554</td>\n",
       "      <td>40.718649</td>\n",
       "      <td>-73.796555</td>\n",
       "      <td>40.718655</td>\n",
       "    </tr>\n",
       "  </tbody>\n",
       "</table>\n",
       "</div>"
      ],
      "text/plain": [
       "                                                      Home  \\\n",
       "carlscrush          POINT (-73.97339207333334 40.75688146)   \n",
       "mayataughtme  POINT (-73.79655447499999 40.71864909999999)   \n",
       "\n",
       "                                                      Work         Hx  \\\n",
       "carlscrush    POINT (-74.00140622666667 40.73572657666667) -73.973392   \n",
       "mayataughtme                POINT (-73.7965552 40.7186549) -73.796554   \n",
       "\n",
       "                     Hy         Wx         Wy  \n",
       "carlscrush    40.756881 -74.001406  40.735727  \n",
       "mayataughtme  40.718649 -73.796555  40.718655  "
      ]
     },
     "execution_count": 75,
     "metadata": {},
     "output_type": "execute_result"
    }
   ],
   "source": [
    "df_inner['Hx'] = df_inner['Home'].map(lambda p: p.x)\n",
    "df_inner['Hy'] = df_inner['Home'].map(lambda p: p.y)\n",
    "df_inner['Wx'] = df_inner['Work'].map(lambda p: p.x)\n",
    "df_inner['Wy'] = df_inner['Work'].map(lambda p: p.y)\n",
    "df_inner.head(2)"
   ]
  },
  {
   "cell_type": "code",
   "execution_count": 76,
   "metadata": {
    "collapsed": true
   },
   "outputs": [],
   "source": [
    "df_inner.to_csv(\"home_work_inner_join.csv\")\n",
    "df_inner.to_pickle(\"home_work_inner_join.p\")"
   ]
  },
  {
   "cell_type": "markdown",
   "metadata": {},
   "source": [
    "<br/>\n",
    "#### home left join"
   ]
  },
  {
   "cell_type": "code",
   "execution_count": 77,
   "metadata": {
    "collapsed": false
   },
   "outputs": [
    {
     "data": {
      "text/html": [
       "<div>\n",
       "<table border=\"1\" class=\"dataframe\">\n",
       "  <thead>\n",
       "    <tr style=\"text-align: right;\">\n",
       "      <th></th>\n",
       "      <th>Home</th>\n",
       "      <th>Work</th>\n",
       "    </tr>\n",
       "  </thead>\n",
       "  <tbody>\n",
       "    <tr>\n",
       "      <th>lancewhite</th>\n",
       "      <td>POINT (-73.86230676 40.76844627)</td>\n",
       "      <td>NaN</td>\n",
       "    </tr>\n",
       "    <tr>\n",
       "      <th>julietterichey</th>\n",
       "      <td>POINT (-73.968379035 40.679262225)</td>\n",
       "      <td>NaN</td>\n",
       "    </tr>\n",
       "  </tbody>\n",
       "</table>\n",
       "</div>"
      ],
      "text/plain": [
       "                                              Home Work\n",
       "lancewhite        POINT (-73.86230676 40.76844627)  NaN\n",
       "julietterichey  POINT (-73.968379035 40.679262225)  NaN"
      ]
     },
     "execution_count": 77,
     "metadata": {},
     "output_type": "execute_result"
    }
   ],
   "source": [
    "df_home_leftjoin.head(2)"
   ]
  },
  {
   "cell_type": "code",
   "execution_count": 86,
   "metadata": {
    "collapsed": false
   },
   "outputs": [
    {
     "data": {
      "text/html": [
       "<div>\n",
       "<table border=\"1\" class=\"dataframe\">\n",
       "  <thead>\n",
       "    <tr style=\"text-align: right;\">\n",
       "      <th></th>\n",
       "      <th>Home</th>\n",
       "      <th>Work</th>\n",
       "      <th>Hx</th>\n",
       "      <th>Hy</th>\n",
       "      <th>Wx</th>\n",
       "      <th>Wy</th>\n",
       "    </tr>\n",
       "  </thead>\n",
       "  <tbody>\n",
       "    <tr>\n",
       "      <th>lancewhite</th>\n",
       "      <td>POINT (-73.86230676 40.76844627)</td>\n",
       "      <td>NaN</td>\n",
       "      <td>-73.862307</td>\n",
       "      <td>40.768446</td>\n",
       "      <td>None</td>\n",
       "      <td>None</td>\n",
       "    </tr>\n",
       "    <tr>\n",
       "      <th>julietterichey</th>\n",
       "      <td>POINT (-73.968379035 40.679262225)</td>\n",
       "      <td>NaN</td>\n",
       "      <td>-73.968379</td>\n",
       "      <td>40.679262</td>\n",
       "      <td>None</td>\n",
       "      <td>None</td>\n",
       "    </tr>\n",
       "  </tbody>\n",
       "</table>\n",
       "</div>"
      ],
      "text/plain": [
       "                                              Home Work         Hx         Hy  \\\n",
       "lancewhite        POINT (-73.86230676 40.76844627)  NaN -73.862307  40.768446   \n",
       "julietterichey  POINT (-73.968379035 40.679262225)  NaN -73.968379  40.679262   \n",
       "\n",
       "                  Wx    Wy  \n",
       "lancewhite      None  None  \n",
       "julietterichey  None  None  "
      ]
     },
     "execution_count": 86,
     "metadata": {},
     "output_type": "execute_result"
    }
   ],
   "source": [
    "df_home_leftjoin['Hx'] = df_home_leftjoin['Home'].map(lambda p: p.x)\n",
    "df_home_leftjoin['Hy'] = df_home_leftjoin['Home'].map(lambda p: p.y)\n",
    "\n",
    "def p_x(point):\n",
    "    try:\n",
    "        point.x\n",
    "    except:\n",
    "        pass\n",
    "    \n",
    "def p_y(point):\n",
    "    try:\n",
    "        point.y\n",
    "    except:\n",
    "        pass\n",
    "    \n",
    "df_home_leftjoin['Wx'] = df_home_leftjoin['Work'].map(p_x)\n",
    "df_home_leftjoin['Wy'] = df_home_leftjoin['Work'].map(p_y)\n",
    "df_home_leftjoin.head(2)"
   ]
  },
  {
   "cell_type": "code",
   "execution_count": 87,
   "metadata": {
    "collapsed": true
   },
   "outputs": [],
   "source": [
    "df_home_leftjoin.to_csv(\"home_work_left_join.csv\")\n",
    "df_home_leftjoin.to_pickle(\"home_work_left_join.p\")"
   ]
  }
 ],
 "metadata": {
  "anaconda-cloud": {},
  "kernelspec": {
   "display_name": "Python [default]",
   "language": "python",
   "name": "python2"
  },
  "language_info": {
   "codemirror_mode": {
    "name": "ipython",
    "version": 2
   },
   "file_extension": ".py",
   "mimetype": "text/x-python",
   "name": "python",
   "nbconvert_exporter": "python",
   "pygments_lexer": "ipython2",
   "version": "2.7.12"
  }
 },
 "nbformat": 4,
 "nbformat_minor": 0
}
