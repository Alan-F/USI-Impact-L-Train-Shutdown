{
 "cells": [
  {
   "cell_type": "code",
   "execution_count": 2,
   "metadata": {
    "collapsed": true
   },
   "outputs": [],
   "source": [
    "__author__ = \"Dongjie Fan\"\n",
    "import pandas as pd\n",
    "import numpy as np\n",
    "from shapely.geometry import Point, MultiPoint\n",
    "import yaml"
   ]
  },
  {
   "cell_type": "code",
   "execution_count": 4,
   "metadata": {
    "collapsed": false
   },
   "outputs": [],
   "source": [
    "tw = pd.read_csv(\"../../tw_without_duplication.csv\")\n",
    "tw['Tweeted_At'] = pd.to_datetime(tw['Tweeted_At'])"
   ]
  },
  {
   "cell_type": "code",
   "execution_count": 10,
   "metadata": {
    "collapsed": true
   },
   "outputs": [],
   "source": [
    "def fetch_hour(dt):\n",
    "    return dt.map(lambda x: x.hour)\n",
    "\n",
    "def fetch_weeday(dt):\n",
    "    return dt.map(lambda x: x.weekday_name)\n",
    "\n",
    "tw['Hour'] = fetch_hour(tw['Tweeted_At'])\n",
    "tw['wd'] = fetch_weeday(tw['Tweeted_At'])"
   ]
  },
  {
   "cell_type": "code",
   "execution_count": 11,
   "metadata": {
    "collapsed": false
   },
   "outputs": [
    {
     "name": "stdout",
     "output_type": "stream",
     "text": [
      "473629\n",
      "69097\n"
     ]
    }
   ],
   "source": [
    "print tw.shape[0]\n",
    "print len(tw['Username'].unique())"
   ]
  },
  {
   "cell_type": "markdown",
   "metadata": {},
   "source": [
    "### tw_home "
   ]
  },
  {
   "cell_type": "code",
   "execution_count": 14,
   "metadata": {
    "collapsed": false
   },
   "outputs": [
    {
     "name": "stdout",
     "output_type": "stream",
     "text": [
      "[22, 23, 0, 1, 2, 6, 7, 8]\n",
      "['Tuesday', 'Wednesday', 'Thursday', 'Monday']\n"
     ]
    }
   ],
   "source": [
    "hour4home = range(22,24,1) + range(0,3,1) + range(6,9,1)\n",
    "print hour4home\n",
    "weekday4home = ['Tuesday', 'Wednesday', 'Thursday', 'Monday']\n",
    "print weekday4home"
   ]
  },
  {
   "cell_type": "code",
   "execution_count": 15,
   "metadata": {
    "collapsed": false
   },
   "outputs": [
    {
     "name": "stdout",
     "output_type": "stream",
     "text": [
      "# of Tweets: 117719\n",
      "% of Tweets: 24.85%\n",
      "# of Users: 31337\n",
      "% of Users: 45.35%\n"
     ]
    }
   ],
   "source": [
    "tw_home = tw.copy()\n",
    "tw_home = tw_home[tw_home['Hour'].isin(hour4home)]\n",
    "tw_home = tw_home[tw_home['wd'].isin(weekday4home)]\n",
    "tw_home.reset_index(drop=True, inplace=True)\n",
    "print \"# of Tweets: {}\\n% of Tweets: {:.2f}%\".format(tw_home.shape[0], 100.0 * tw_home.shape[0]/tw.shape[0])\n",
    "print \"# of Users: {}\\n% of Users: {:.2f}%\".format(len(tw_home['Username'].unique()), \\\n",
    "                100.0 * len(tw_home['Username'].unique())/len(tw['Username'].unique()))"
   ]
  },
  {
   "cell_type": "code",
   "execution_count": 16,
   "metadata": {
    "collapsed": false
   },
   "outputs": [],
   "source": [
    "users = tw_home['Username'].unique()"
   ]
  },
  {
   "cell_type": "code",
   "execution_count": 17,
   "metadata": {
    "collapsed": false
   },
   "outputs": [],
   "source": [
    "tw_home['latlon'] = tw_home['Geo'].map(lambda x: yaml.load(x)[\"u'coordinates'\"])\n",
    "tw_home['geometry'] = tw_home['latlon'].map(lambda x: Point(x[0], x[1]))"
   ]
  },
  {
   "cell_type": "code",
   "execution_count": 18,
   "metadata": {
    "collapsed": false
   },
   "outputs": [
    {
     "data": {
      "text/html": [
       "<div>\n",
       "<table border=\"1\" class=\"dataframe\">\n",
       "  <thead>\n",
       "    <tr style=\"text-align: right;\">\n",
       "      <th></th>\n",
       "      <th>Count</th>\n",
       "    </tr>\n",
       "  </thead>\n",
       "  <tbody>\n",
       "    <tr>\n",
       "      <th>lancewhite</th>\n",
       "      <td>1</td>\n",
       "    </tr>\n",
       "    <tr>\n",
       "      <th>julietterichey</th>\n",
       "      <td>2</td>\n",
       "    </tr>\n",
       "    <tr>\n",
       "      <th>LaFemFatale</th>\n",
       "      <td>1</td>\n",
       "    </tr>\n",
       "    <tr>\n",
       "      <th>danreilly11</th>\n",
       "      <td>3</td>\n",
       "    </tr>\n",
       "  </tbody>\n",
       "</table>\n",
       "</div>"
      ],
      "text/plain": [
       "                Count\n",
       "lancewhite          1\n",
       "julietterichey      2\n",
       "LaFemFatale         1\n",
       "danreilly11         3"
      ]
     },
     "execution_count": 18,
     "metadata": {},
     "output_type": "execute_result"
    }
   ],
   "source": [
    "userLoc = {}\n",
    "for user in users:\n",
    "    userLoc[user] = list(tw_home[tw_home['Username'] == user]['geometry'])\n",
    "\n",
    "userCentroid = {}        #  centroid of All points per user\n",
    "userCount = {}           #  the number of tweets per user\n",
    "for user, points in userLoc.iteritems():\n",
    "    userCentroid[user] = MultiPoint(points).centroid\n",
    "    userCount[user] = len(points)\n",
    "    \n",
    "userCount_df = pd.DataFrame.from_dict(userCount, orient='index')\n",
    "userCount_df.rename(columns={0: \"Count\"}, inplace=True)\n",
    "userCount_df.head(4)"
   ]
  },
  {
   "cell_type": "code",
   "execution_count": 19,
   "metadata": {
    "collapsed": false
   },
   "outputs": [
    {
     "data": {
      "text/html": [
       "<div>\n",
       "<table border=\"1\" class=\"dataframe\">\n",
       "  <thead>\n",
       "    <tr style=\"text-align: right;\">\n",
       "      <th></th>\n",
       "      <th>Centroid</th>\n",
       "    </tr>\n",
       "  </thead>\n",
       "  <tbody>\n",
       "    <tr>\n",
       "      <th>lancewhite</th>\n",
       "      <td>POINT (40.76844627 -73.86230676)</td>\n",
       "    </tr>\n",
       "    <tr>\n",
       "      <th>julietterichey</th>\n",
       "      <td>POINT (40.679262225 -73.968379035)</td>\n",
       "    </tr>\n",
       "    <tr>\n",
       "      <th>LaFemFatale</th>\n",
       "      <td>POINT (40.86456569 -73.92148007999999)</td>\n",
       "    </tr>\n",
       "    <tr>\n",
       "      <th>danreilly11</th>\n",
       "      <td>POINT (40.67799072666667 -73.95937557999999)</td>\n",
       "    </tr>\n",
       "  </tbody>\n",
       "</table>\n",
       "</div>"
      ],
      "text/plain": [
       "                                                    Centroid\n",
       "lancewhite                  POINT (40.76844627 -73.86230676)\n",
       "julietterichey            POINT (40.679262225 -73.968379035)\n",
       "LaFemFatale           POINT (40.86456569 -73.92148007999999)\n",
       "danreilly11     POINT (40.67799072666667 -73.95937557999999)"
      ]
     },
     "execution_count": 19,
     "metadata": {},
     "output_type": "execute_result"
    }
   ],
   "source": [
    "userCentroid_df = pd.DataFrame.from_dict(userCentroid, orient='index')\n",
    "userCentroid_df.rename(columns={0: \"Centroid\"}, inplace=True)\n",
    "userCentroid_df.head(4)"
   ]
  },
  {
   "cell_type": "code",
   "execution_count": 20,
   "metadata": {
    "collapsed": false
   },
   "outputs": [],
   "source": [
    "userInfo = userCentroid_df.join(userCount_df).sort_values(ascending=False, by='Count')\n",
    "userInfo.to_pickle(\"../data/userInfo.p\")"
   ]
  },
  {
   "cell_type": "code",
   "execution_count": 22,
   "metadata": {
    "collapsed": false
   },
   "outputs": [
    {
     "data": {
      "text/html": [
       "<div>\n",
       "<table border=\"1\" class=\"dataframe\">\n",
       "  <thead>\n",
       "    <tr style=\"text-align: right;\">\n",
       "      <th></th>\n",
       "      <th>Centroid</th>\n",
       "      <th>Count</th>\n",
       "    </tr>\n",
       "  </thead>\n",
       "  <tbody>\n",
       "    <tr>\n",
       "      <th>MrNaassir</th>\n",
       "      <td>POINT (40.69589873748838 -73.84609314258135)</td>\n",
       "      <td>430</td>\n",
       "    </tr>\n",
       "    <tr>\n",
       "      <th>MJStarLover</th>\n",
       "      <td>POINT (40.67316267021744 -73.93809042208075)</td>\n",
       "      <td>322</td>\n",
       "    </tr>\n",
       "    <tr>\n",
       "      <th>CRamusevic</th>\n",
       "      <td>POINT (40.71477385638974 -73.88318530613417)</td>\n",
       "      <td>313</td>\n",
       "    </tr>\n",
       "    <tr>\n",
       "      <th>NewYorkCP</th>\n",
       "      <td>POINT (40.71669794999984 -74.00001601999982)</td>\n",
       "      <td>304</td>\n",
       "    </tr>\n",
       "    <tr>\n",
       "      <th>PaolaAmaEiza</th>\n",
       "      <td>POINT (40.81515470433212 -73.90957593718409)</td>\n",
       "      <td>277</td>\n",
       "    </tr>\n",
       "    <tr>\n",
       "      <th>cydiadono</th>\n",
       "      <td>POINT (40.65273946039841 -73.92946019466135)</td>\n",
       "      <td>251</td>\n",
       "    </tr>\n",
       "    <tr>\n",
       "      <th>britshaniece</th>\n",
       "      <td>POINT (40.84595302432001 -73.93570111024002)</td>\n",
       "      <td>250</td>\n",
       "    </tr>\n",
       "    <tr>\n",
       "      <th>NichyTay</th>\n",
       "      <td>POINT (40.69119245473684 -73.81549138708502)</td>\n",
       "      <td>247</td>\n",
       "    </tr>\n",
       "    <tr>\n",
       "      <th>Souljaboa</th>\n",
       "      <td>POINT (40.64279707203379 -73.93865875847438)</td>\n",
       "      <td>236</td>\n",
       "    </tr>\n",
       "    <tr>\n",
       "      <th>mufffymendes</th>\n",
       "      <td>POINT (40.77947286903508 -73.91902345013156)</td>\n",
       "      <td>228</td>\n",
       "    </tr>\n",
       "    <tr>\n",
       "      <th>StevieSoFetch_</th>\n",
       "      <td>POINT (40.61404683977678 -73.74889948571433)</td>\n",
       "      <td>224</td>\n",
       "    </tr>\n",
       "    <tr>\n",
       "      <th>MJSINCE93</th>\n",
       "      <td>POINT (40.84555756986301 -73.9326527620091)</td>\n",
       "      <td>219</td>\n",
       "    </tr>\n",
       "    <tr>\n",
       "      <th>evolutionofmike</th>\n",
       "      <td>POINT (40.80104352465118 -73.94208582953493)</td>\n",
       "      <td>215</td>\n",
       "    </tr>\n",
       "    <tr>\n",
       "      <th>TrentaBitch</th>\n",
       "      <td>POINT (40.71634673943005 -73.84056938062177)</td>\n",
       "      <td>193</td>\n",
       "    </tr>\n",
       "    <tr>\n",
       "      <th>DenzelPhoenix</th>\n",
       "      <td>POINT (40.7153038547644 -74.00370075178012)</td>\n",
       "      <td>191</td>\n",
       "    </tr>\n",
       "    <tr>\n",
       "      <th>beastcoasthippy</th>\n",
       "      <td>POINT (40.83549751926315 -73.92014636373686)</td>\n",
       "      <td>190</td>\n",
       "    </tr>\n",
       "    <tr>\n",
       "      <th>kwustaar</th>\n",
       "      <td>POINT (40.74352310691891 -73.97367906713511)</td>\n",
       "      <td>185</td>\n",
       "    </tr>\n",
       "    <tr>\n",
       "      <th>NewYorkPuck</th>\n",
       "      <td>POINT (40.56277578558011 -74.19269825734808)</td>\n",
       "      <td>181</td>\n",
       "    </tr>\n",
       "    <tr>\n",
       "      <th>samie_love</th>\n",
       "      <td>POINT (40.69513391218391 -73.74424396287355)</td>\n",
       "      <td>174</td>\n",
       "    </tr>\n",
       "    <tr>\n",
       "      <th>StrongLoveBlog1</th>\n",
       "      <td>POINT (40.78980521089818 -73.97326738059883)</td>\n",
       "      <td>167</td>\n",
       "    </tr>\n",
       "  </tbody>\n",
       "</table>\n",
       "</div>"
      ],
      "text/plain": [
       "                                                     Centroid  Count\n",
       "MrNaassir        POINT (40.69589873748838 -73.84609314258135)    430\n",
       "MJStarLover      POINT (40.67316267021744 -73.93809042208075)    322\n",
       "CRamusevic       POINT (40.71477385638974 -73.88318530613417)    313\n",
       "NewYorkCP        POINT (40.71669794999984 -74.00001601999982)    304\n",
       "PaolaAmaEiza     POINT (40.81515470433212 -73.90957593718409)    277\n",
       "cydiadono        POINT (40.65273946039841 -73.92946019466135)    251\n",
       "britshaniece     POINT (40.84595302432001 -73.93570111024002)    250\n",
       "NichyTay         POINT (40.69119245473684 -73.81549138708502)    247\n",
       "Souljaboa        POINT (40.64279707203379 -73.93865875847438)    236\n",
       "mufffymendes     POINT (40.77947286903508 -73.91902345013156)    228\n",
       "StevieSoFetch_   POINT (40.61404683977678 -73.74889948571433)    224\n",
       "MJSINCE93         POINT (40.84555756986301 -73.9326527620091)    219\n",
       "evolutionofmike  POINT (40.80104352465118 -73.94208582953493)    215\n",
       "TrentaBitch      POINT (40.71634673943005 -73.84056938062177)    193\n",
       "DenzelPhoenix     POINT (40.7153038547644 -74.00370075178012)    191\n",
       "beastcoasthippy  POINT (40.83549751926315 -73.92014636373686)    190\n",
       "kwustaar         POINT (40.74352310691891 -73.97367906713511)    185\n",
       "NewYorkPuck      POINT (40.56277578558011 -74.19269825734808)    181\n",
       "samie_love       POINT (40.69513391218391 -73.74424396287355)    174\n",
       "StrongLoveBlog1  POINT (40.78980521089818 -73.97326738059883)    167"
      ]
     },
     "execution_count": 22,
     "metadata": {},
     "output_type": "execute_result"
    }
   ],
   "source": [
    "userInfo.head(20)"
   ]
  }
 ],
 "metadata": {
  "anaconda-cloud": {},
  "kernelspec": {
   "display_name": "Python [default]",
   "language": "python",
   "name": "python2"
  },
  "language_info": {
   "codemirror_mode": {
    "name": "ipython",
    "version": 2
   },
   "file_extension": ".py",
   "mimetype": "text/x-python",
   "name": "python",
   "nbconvert_exporter": "python",
   "pygments_lexer": "ipython2",
   "version": "2.7.12"
  }
 },
 "nbformat": 4,
 "nbformat_minor": 0
}
