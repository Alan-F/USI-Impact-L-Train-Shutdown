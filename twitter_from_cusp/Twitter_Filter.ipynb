{
 "cells": [
  {
   "cell_type": "code",
   "execution_count": 151,
   "metadata": {
    "collapsed": true
   },
   "outputs": [],
   "source": [
    "__author__ = \"Dongjie Fan\"\n",
    "import pandas as pd\n",
    "import numpy as np\n",
    "from shapely.geometry import Point, MultiPoint\n",
    "import yaml"
   ]
  },
  {
   "cell_type": "code",
   "execution_count": 2,
   "metadata": {
    "collapsed": true
   },
   "outputs": [],
   "source": [
    "tw = pd.read_csv(\"./tw/tw_without_duplication.csv\")\n",
    "tw['Tweeted_At'] = pd.to_datetime(tw['Tweeted_At'])"
   ]
  },
  {
   "cell_type": "code",
   "execution_count": 51,
   "metadata": {
    "collapsed": true
   },
   "outputs": [],
   "source": [
    "def fetch_hour(dt):\n",
    "    return dt.map(lambda x: x.hour)\n",
    "\n",
    "tw['Hour'] = fetch_hour(tw['Tweeted_At'])"
   ]
  },
  {
   "cell_type": "code",
   "execution_count": 82,
   "metadata": {
    "collapsed": false
   },
   "outputs": [
    {
     "name": "stdout",
     "output_type": "stream",
     "text": [
      "473629\n",
      "69097\n"
     ]
    }
   ],
   "source": [
    "print tw.shape[0]\n",
    "print len(tw['Username'].unique())\n"
   ]
  },
  {
   "cell_type": "markdown",
   "metadata": {},
   "source": [
    "### tw_home "
   ]
  },
  {
   "cell_type": "code",
   "execution_count": 193,
   "metadata": {
    "collapsed": false
   },
   "outputs": [
    {
     "name": "stdout",
     "output_type": "stream",
     "text": [
      "[22, 23, 0, 1, 2, 6, 7, 8]\n"
     ]
    }
   ],
   "source": [
    "hour4home = range(22,24,1) + range(0,3,1) + range(6,9,1)\n",
    "print hour4home"
   ]
  },
  {
   "cell_type": "code",
   "execution_count": 194,
   "metadata": {
    "collapsed": false
   },
   "outputs": [
    {
     "name": "stdout",
     "output_type": "stream",
     "text": [
      "# of Tweets: 188422\n",
      "% of Tweets: 39.78%\n",
      "# of Users: 42935\n",
      "% of Users: 62.14%\n"
     ]
    }
   ],
   "source": [
    "tw_home = tw.copy()\n",
    "tw_home = tw_home[tw_home['Hour'].isin(hour4home)]\n",
    "tw_home.reset_index(drop=True, inplace=True)\n",
    "print \"# of Tweets: {}\\n% of Tweets: {:.2f}%\".format(tw_home.shape[0], 100.0 * tw_home.shape[0]/tw.shape[0])\n",
    "print \"# of Users: {}\\n% of Users: {:.2f}%\".format(len(tw_home['Username'].unique()), \\\n",
    "                100.0 * len(tw_home['Username'].unique())/len(tw['Username'].unique()))"
   ]
  },
  {
   "cell_type": "code",
   "execution_count": 195,
   "metadata": {
    "collapsed": false
   },
   "outputs": [],
   "source": [
    "users = tw_home['Username'].unique()"
   ]
  },
  {
   "cell_type": "code",
   "execution_count": 196,
   "metadata": {
    "collapsed": false
   },
   "outputs": [],
   "source": [
    "tw_home['latlon'] = tw_home['Geo'].map(lambda x: yaml.load(x)[\"u'coordinates'\"])"
   ]
  },
  {
   "cell_type": "code",
   "execution_count": 197,
   "metadata": {
    "collapsed": false
   },
   "outputs": [],
   "source": [
    "tw_home['geometry'] = tw_home['latlon'].map(lambda x: Point(x[0], x[1]))"
   ]
  },
  {
   "cell_type": "code",
   "execution_count": 199,
   "metadata": {
    "collapsed": false
   },
   "outputs": [],
   "source": [
    "userLoc = {}\n",
    "for user in users:\n",
    "    userLoc[user] = list(tw_home[tw_home['Username'] == user]['geometry'])\n",
    "\n",
    "userCentroid = {}        #  centroid of All points per user\n",
    "userCount = {}           #  the number of tweets per user\n",
    "for user, points in userLoc.iteritems():\n",
    "    userCentroid[user] = MultiPoint(points).centroid\n",
    "    userCount[user] = len(points)"
   ]
  },
  {
   "cell_type": "code",
   "execution_count": 200,
   "metadata": {
    "collapsed": false
   },
   "outputs": [
    {
     "data": {
      "text/html": [
       "<div>\n",
       "<table border=\"1\" class=\"dataframe\">\n",
       "  <thead>\n",
       "    <tr style=\"text-align: right;\">\n",
       "      <th></th>\n",
       "      <th>Count</th>\n",
       "    </tr>\n",
       "  </thead>\n",
       "  <tbody>\n",
       "    <tr>\n",
       "      <th>lancewhite</th>\n",
       "      <td>1</td>\n",
       "    </tr>\n",
       "    <tr>\n",
       "      <th>weathergavi</th>\n",
       "      <td>1</td>\n",
       "    </tr>\n",
       "    <tr>\n",
       "      <th>rashelleo</th>\n",
       "      <td>2</td>\n",
       "    </tr>\n",
       "    <tr>\n",
       "      <th>julietterichey</th>\n",
       "      <td>4</td>\n",
       "    </tr>\n",
       "  </tbody>\n",
       "</table>\n",
       "</div>"
      ],
      "text/plain": [
       "                Count\n",
       "lancewhite          1\n",
       "weathergavi         1\n",
       "rashelleo           2\n",
       "julietterichey      4"
      ]
     },
     "execution_count": 200,
     "metadata": {},
     "output_type": "execute_result"
    }
   ],
   "source": [
    "userCount_df = pd.DataFrame.from_dict(userCount, orient='index')\n",
    "userCount_df.rename(columns={0: \"Count\"}, inplace=True)\n",
    "userCount_df.head(4)"
   ]
  },
  {
   "cell_type": "code",
   "execution_count": 201,
   "metadata": {
    "collapsed": false
   },
   "outputs": [
    {
     "data": {
      "text/html": [
       "<div>\n",
       "<table border=\"1\" class=\"dataframe\">\n",
       "  <thead>\n",
       "    <tr style=\"text-align: right;\">\n",
       "      <th></th>\n",
       "      <th>Centroid</th>\n",
       "    </tr>\n",
       "  </thead>\n",
       "  <tbody>\n",
       "    <tr>\n",
       "      <th>lancewhite</th>\n",
       "      <td>POINT (40.76844627 -73.86230676)</td>\n",
       "    </tr>\n",
       "    <tr>\n",
       "      <th>weathergavi</th>\n",
       "      <td>POINT (40.6503364 -73.79200688)</td>\n",
       "    </tr>\n",
       "    <tr>\n",
       "      <th>rashelleo</th>\n",
       "      <td>POINT (40.71990755 -73.79631974999999)</td>\n",
       "    </tr>\n",
       "    <tr>\n",
       "      <th>julietterichey</th>\n",
       "      <td>POINT (40.683006305 -73.97345427249999)</td>\n",
       "    </tr>\n",
       "  </tbody>\n",
       "</table>\n",
       "</div>"
      ],
      "text/plain": [
       "                                               Centroid\n",
       "lancewhite             POINT (40.76844627 -73.86230676)\n",
       "weathergavi             POINT (40.6503364 -73.79200688)\n",
       "rashelleo        POINT (40.71990755 -73.79631974999999)\n",
       "julietterichey  POINT (40.683006305 -73.97345427249999)"
      ]
     },
     "execution_count": 201,
     "metadata": {},
     "output_type": "execute_result"
    }
   ],
   "source": [
    "userCentroid_df = pd.DataFrame.from_dict(userCentroid, orient='index')\n",
    "userCentroid_df.rename(columns={0: \"Centroid\"}, inplace=True)\n",
    "userCentroid_df.head(4)"
   ]
  },
  {
   "cell_type": "code",
   "execution_count": 202,
   "metadata": {
    "collapsed": false
   },
   "outputs": [
    {
     "data": {
      "text/html": [
       "<div>\n",
       "<table border=\"1\" class=\"dataframe\">\n",
       "  <thead>\n",
       "    <tr style=\"text-align: right;\">\n",
       "      <th></th>\n",
       "      <th>Centroid</th>\n",
       "      <th>Count</th>\n",
       "    </tr>\n",
       "  </thead>\n",
       "  <tbody>\n",
       "    <tr>\n",
       "      <th>MrNaassir</th>\n",
       "      <td>POINT (40.69505781493996 -73.84190734701551)</td>\n",
       "      <td>583</td>\n",
       "    </tr>\n",
       "    <tr>\n",
       "      <th>cydiadono</th>\n",
       "      <td>POINT (40.65274092851706 -73.92940767661602)</td>\n",
       "      <td>526</td>\n",
       "    </tr>\n",
       "    <tr>\n",
       "      <th>NewYorkCP</th>\n",
       "      <td>POINT (40.71669794999983 -74.00001601999979)</td>\n",
       "      <td>487</td>\n",
       "    </tr>\n",
       "    <tr>\n",
       "      <th>MJStarLover</th>\n",
       "      <td>POINT (40.67316508201836 -73.93811013061925)</td>\n",
       "      <td>436</td>\n",
       "    </tr>\n",
       "    <tr>\n",
       "      <th>mufffymendes</th>\n",
       "      <td>POINT (40.78126767757577 -73.91863279664341)</td>\n",
       "      <td>429</td>\n",
       "    </tr>\n",
       "  </tbody>\n",
       "</table>\n",
       "</div>"
      ],
      "text/plain": [
       "                                                  Centroid  Count\n",
       "MrNaassir     POINT (40.69505781493996 -73.84190734701551)    583\n",
       "cydiadono     POINT (40.65274092851706 -73.92940767661602)    526\n",
       "NewYorkCP     POINT (40.71669794999983 -74.00001601999979)    487\n",
       "MJStarLover   POINT (40.67316508201836 -73.93811013061925)    436\n",
       "mufffymendes  POINT (40.78126767757577 -73.91863279664341)    429"
      ]
     },
     "execution_count": 202,
     "metadata": {},
     "output_type": "execute_result"
    }
   ],
   "source": [
    "userInfo = userCentroid_df.join(userCount_df).sort_values(ascending=False, by='Count')\n",
    "userInfo.head(5)"
   ]
  },
  {
   "cell_type": "code",
   "execution_count": 205,
   "metadata": {
    "collapsed": false
   },
   "outputs": [],
   "source": [
    "userInfo.to_pickle(\"userInfo\")"
   ]
  }
 ],
 "metadata": {
  "anaconda-cloud": {},
  "kernelspec": {
   "display_name": "PUI2016_Python2",
   "language": "python",
   "name": "pui2016_python2"
  },
  "language_info": {
   "codemirror_mode": {
    "name": "ipython",
    "version": 2
   },
   "file_extension": ".py",
   "mimetype": "text/x-python",
   "name": "python",
   "nbconvert_exporter": "python",
   "pygments_lexer": "ipython2",
   "version": "2.7.12"
  }
 },
 "nbformat": 4,
 "nbformat_minor": 0
}
