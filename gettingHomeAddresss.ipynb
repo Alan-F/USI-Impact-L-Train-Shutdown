{
 "cells": [
  {
   "cell_type": "markdown",
   "metadata": {},
   "source": [
    "This notebooks is an attempt to infere a home address based on twitter data from an user"
   ]
  },
  {
   "cell_type": "code",
   "execution_count": 1,
   "metadata": {
    "collapsed": true
   },
   "outputs": [],
   "source": [
    "import pandas as pd\n",
    "import numpy as np\n",
    "import geopandas as gpd\n",
    "from shapely.geometry import Point\n",
    "from sklearn.metrics import silhouette_samples, silhouette_score\n",
    "from sklearn.mixture import GaussianMixture # You can import this only if you are using 0.18+ sklearn.\n",
    "\n",
    "import matplotlib.pyplot as plt\n",
    "%matplotlib inline"
   ]
  },
  {
   "cell_type": "code",
   "execution_count": 2,
   "metadata": {
    "collapsed": true
   },
   "outputs": [],
   "source": [
    "data = pd.read_csv('data/MrNaassir.csv')"
   ]
  },
  {
   "cell_type": "code",
   "execution_count": 3,
   "metadata": {
    "collapsed": false
   },
   "outputs": [
    {
     "data": {
      "text/html": [
       "<div>\n",
       "<table border=\"1\" class=\"dataframe\">\n",
       "  <thead>\n",
       "    <tr style=\"text-align: right;\">\n",
       "      <th></th>\n",
       "      <th>Unnamed: 0</th>\n",
       "      <th>Unnamed: 0.1</th>\n",
       "      <th>UserID</th>\n",
       "      <th>Username</th>\n",
       "      <th>Tweeted_At</th>\n",
       "      <th>Tweet ID</th>\n",
       "      <th>Location</th>\n",
       "      <th>Geo</th>\n",
       "      <th>Place</th>\n",
       "      <th>Profile_Create_at</th>\n",
       "      <th>Retweeted_Count</th>\n",
       "      <th>Text</th>\n",
       "      <th>geometry</th>\n",
       "      <th>datetime</th>\n",
       "    </tr>\n",
       "  </thead>\n",
       "  <tbody>\n",
       "    <tr>\n",
       "      <th>0</th>\n",
       "      <td>48249</td>\n",
       "      <td>52990</td>\n",
       "      <td>NaN</td>\n",
       "      <td>MrNaassir</td>\n",
       "      <td>Mon Feb 09 22:03:05 +0000 2015</td>\n",
       "      <td>564907364563025922</td>\n",
       "      <td>New Yark City.New York. U.S.A.</td>\n",
       "      <td>{u'type': u'Point', u'coordinates': [40.690623...</td>\n",
       "      <td>{u'full_name': u'Queens, NY', u'url': u'https:...</td>\n",
       "      <td>Sat Jun 20 00:18:35 +0000 2009</td>\n",
       "      <td>0</td>\n",
       "      <td>@brookejune9 http://t.co/Wfs1gQQZ1K</td>\n",
       "      <td>POINT (40.6906234 -73.82367859999999)</td>\n",
       "      <td>2015-02-09 22:03:05</td>\n",
       "    </tr>\n",
       "    <tr>\n",
       "      <th>1</th>\n",
       "      <td>48389</td>\n",
       "      <td>53130</td>\n",
       "      <td>NaN</td>\n",
       "      <td>MrNaassir</td>\n",
       "      <td>Mon Feb 09 21:58:41 +0000 2015</td>\n",
       "      <td>564906255731658753</td>\n",
       "      <td>New Yark City.New York. U.S.A.</td>\n",
       "      <td>{u'type': u'Point', u'coordinates': [40.690586...</td>\n",
       "      <td>{u'full_name': u'Queens, NY', u'url': u'https:...</td>\n",
       "      <td>Sat Jun 20 00:18:35 +0000 2009</td>\n",
       "      <td>1</td>\n",
       "      <td>@b13436527cee4e9:@nsmo2 @Queen_manal @KmQlJjrq...</td>\n",
       "      <td>POINT (40.6905861 -73.82390989)</td>\n",
       "      <td>2015-02-09 21:58:41</td>\n",
       "    </tr>\n",
       "    <tr>\n",
       "      <th>2</th>\n",
       "      <td>48562</td>\n",
       "      <td>53303</td>\n",
       "      <td>NaN</td>\n",
       "      <td>MrNaassir</td>\n",
       "      <td>Mon Feb 09 21:52:43 +0000 2015</td>\n",
       "      <td>564904752870600704</td>\n",
       "      <td>New Yark City.New York. U.S.A.</td>\n",
       "      <td>{u'type': u'Point', u'coordinates': [40.690459...</td>\n",
       "      <td>{u'full_name': u'Queens, NY', u'url': u'https:...</td>\n",
       "      <td>Sat Jun 20 00:18:35 +0000 2009</td>\n",
       "      <td>0</td>\n",
       "      <td>@AfredoMM1965: @MrNaassir merci beaucoup ! \\n\\...</td>\n",
       "      <td>POINT (40.6904596 -73.82384273)</td>\n",
       "      <td>2015-02-09 21:52:43</td>\n",
       "    </tr>\n",
       "    <tr>\n",
       "      <th>3</th>\n",
       "      <td>48583</td>\n",
       "      <td>53324</td>\n",
       "      <td>NaN</td>\n",
       "      <td>MrNaassir</td>\n",
       "      <td>Mon Feb 09 21:51:55 +0000 2015</td>\n",
       "      <td>564904552747773952</td>\n",
       "      <td>New Yark City.New York. U.S.A.</td>\n",
       "      <td>{u'type': u'Point', u'coordinates': [40.690524...</td>\n",
       "      <td>{u'full_name': u'Queens, NY', u'url': u'https:...</td>\n",
       "      <td>Sat Jun 20 00:18:35 +0000 2009</td>\n",
       "      <td>1</td>\n",
       "      <td>@almohid @dermott_ann @GCHDutta @Domi52778 @Le...</td>\n",
       "      <td>POINT (40.69052428 -73.82379426999999)</td>\n",
       "      <td>2015-02-09 21:51:55</td>\n",
       "    </tr>\n",
       "    <tr>\n",
       "      <th>4</th>\n",
       "      <td>48589</td>\n",
       "      <td>53330</td>\n",
       "      <td>NaN</td>\n",
       "      <td>MrNaassir</td>\n",
       "      <td>Mon Feb 09 21:51:34 +0000 2015</td>\n",
       "      <td>564904465212669952</td>\n",
       "      <td>New Yark City.New York. U.S.A.</td>\n",
       "      <td>{u'type': u'Point', u'coordinates': [40.690524...</td>\n",
       "      <td>{u'full_name': u'Queens, NY', u'url': u'https:...</td>\n",
       "      <td>Sat Jun 20 00:18:35 +0000 2009</td>\n",
       "      <td>1</td>\n",
       "      <td>@royca60 @almohid @Leonor188 @dermott_ann @GCH...</td>\n",
       "      <td>POINT (40.69052428 -73.82379426999999)</td>\n",
       "      <td>2015-02-09 21:51:34</td>\n",
       "    </tr>\n",
       "  </tbody>\n",
       "</table>\n",
       "</div>"
      ],
      "text/plain": [
       "   Unnamed: 0  Unnamed: 0.1  UserID   Username  \\\n",
       "0       48249         52990     NaN  MrNaassir   \n",
       "1       48389         53130     NaN  MrNaassir   \n",
       "2       48562         53303     NaN  MrNaassir   \n",
       "3       48583         53324     NaN  MrNaassir   \n",
       "4       48589         53330     NaN  MrNaassir   \n",
       "\n",
       "                       Tweeted_At            Tweet ID  \\\n",
       "0  Mon Feb 09 22:03:05 +0000 2015  564907364563025922   \n",
       "1  Mon Feb 09 21:58:41 +0000 2015  564906255731658753   \n",
       "2  Mon Feb 09 21:52:43 +0000 2015  564904752870600704   \n",
       "3  Mon Feb 09 21:51:55 +0000 2015  564904552747773952   \n",
       "4  Mon Feb 09 21:51:34 +0000 2015  564904465212669952   \n",
       "\n",
       "                         Location  \\\n",
       "0  New Yark City.New York. U.S.A.   \n",
       "1  New Yark City.New York. U.S.A.   \n",
       "2  New Yark City.New York. U.S.A.   \n",
       "3  New Yark City.New York. U.S.A.   \n",
       "4  New Yark City.New York. U.S.A.   \n",
       "\n",
       "                                                 Geo  \\\n",
       "0  {u'type': u'Point', u'coordinates': [40.690623...   \n",
       "1  {u'type': u'Point', u'coordinates': [40.690586...   \n",
       "2  {u'type': u'Point', u'coordinates': [40.690459...   \n",
       "3  {u'type': u'Point', u'coordinates': [40.690524...   \n",
       "4  {u'type': u'Point', u'coordinates': [40.690524...   \n",
       "\n",
       "                                               Place  \\\n",
       "0  {u'full_name': u'Queens, NY', u'url': u'https:...   \n",
       "1  {u'full_name': u'Queens, NY', u'url': u'https:...   \n",
       "2  {u'full_name': u'Queens, NY', u'url': u'https:...   \n",
       "3  {u'full_name': u'Queens, NY', u'url': u'https:...   \n",
       "4  {u'full_name': u'Queens, NY', u'url': u'https:...   \n",
       "\n",
       "                Profile_Create_at  Retweeted_Count  \\\n",
       "0  Sat Jun 20 00:18:35 +0000 2009                0   \n",
       "1  Sat Jun 20 00:18:35 +0000 2009                1   \n",
       "2  Sat Jun 20 00:18:35 +0000 2009                0   \n",
       "3  Sat Jun 20 00:18:35 +0000 2009                1   \n",
       "4  Sat Jun 20 00:18:35 +0000 2009                1   \n",
       "\n",
       "                                                Text  \\\n",
       "0                @brookejune9 http://t.co/Wfs1gQQZ1K   \n",
       "1  @b13436527cee4e9:@nsmo2 @Queen_manal @KmQlJjrq...   \n",
       "2  @AfredoMM1965: @MrNaassir merci beaucoup ! \\n\\...   \n",
       "3  @almohid @dermott_ann @GCHDutta @Domi52778 @Le...   \n",
       "4  @royca60 @almohid @Leonor188 @dermott_ann @GCH...   \n",
       "\n",
       "                                 geometry             datetime  \n",
       "0   POINT (40.6906234 -73.82367859999999)  2015-02-09 22:03:05  \n",
       "1         POINT (40.6905861 -73.82390989)  2015-02-09 21:58:41  \n",
       "2         POINT (40.6904596 -73.82384273)  2015-02-09 21:52:43  \n",
       "3  POINT (40.69052428 -73.82379426999999)  2015-02-09 21:51:55  \n",
       "4  POINT (40.69052428 -73.82379426999999)  2015-02-09 21:51:34  "
      ]
     },
     "execution_count": 3,
     "metadata": {},
     "output_type": "execute_result"
    }
   ],
   "source": [
    "data.head()"
   ]
  },
  {
   "cell_type": "code",
   "execution_count": 4,
   "metadata": {
    "collapsed": false
   },
   "outputs": [
    {
     "data": {
      "text/plain": [
       "'-73.82367859999999'"
      ]
     },
     "execution_count": 4,
     "metadata": {},
     "output_type": "execute_result"
    }
   ],
   "source": [
    "str.split(data.geometry[0],' ')[2].replace(\")\", \"\") "
   ]
  },
  {
   "cell_type": "code",
   "execution_count": 5,
   "metadata": {
    "collapsed": false
   },
   "outputs": [],
   "source": [
    "#convert the data frame into geodataframe\n",
    "y = [float(str.split(i,' ')[1].replace(\"(\", \"\")) for i in data.geometry]\n",
    "x = [float(str.split(i,' ')[2].replace(\")\", \"\")) for i in data.geometry]\n",
    "data['x'] = x\n",
    "data['y'] = y\n",
    "data['geometry'] = [Point(xy) for xy in zip(data.x, data.y)]\n",
    "data = gpd.GeoDataFrame(data, crs=None, geometry=\"geometry\")"
   ]
  },
  {
   "cell_type": "code",
   "execution_count": 6,
   "metadata": {
    "collapsed": false
   },
   "outputs": [
    {
     "data": {
      "text/html": [
       "<div>\n",
       "<table border=\"1\" class=\"dataframe\">\n",
       "  <thead>\n",
       "    <tr style=\"text-align: right;\">\n",
       "      <th></th>\n",
       "      <th>Unnamed: 0</th>\n",
       "      <th>Unnamed: 0.1</th>\n",
       "      <th>UserID</th>\n",
       "      <th>Username</th>\n",
       "      <th>Tweeted_At</th>\n",
       "      <th>Tweet ID</th>\n",
       "      <th>Location</th>\n",
       "      <th>Geo</th>\n",
       "      <th>Place</th>\n",
       "      <th>Profile_Create_at</th>\n",
       "      <th>Retweeted_Count</th>\n",
       "      <th>Text</th>\n",
       "      <th>geometry</th>\n",
       "      <th>datetime</th>\n",
       "      <th>x</th>\n",
       "      <th>y</th>\n",
       "    </tr>\n",
       "  </thead>\n",
       "  <tbody>\n",
       "    <tr>\n",
       "      <th>0</th>\n",
       "      <td>48249</td>\n",
       "      <td>52990</td>\n",
       "      <td>NaN</td>\n",
       "      <td>MrNaassir</td>\n",
       "      <td>Mon Feb 09 22:03:05 +0000 2015</td>\n",
       "      <td>564907364563025922</td>\n",
       "      <td>New Yark City.New York. U.S.A.</td>\n",
       "      <td>{u'type': u'Point', u'coordinates': [40.690623...</td>\n",
       "      <td>{u'full_name': u'Queens, NY', u'url': u'https:...</td>\n",
       "      <td>Sat Jun 20 00:18:35 +0000 2009</td>\n",
       "      <td>0</td>\n",
       "      <td>@brookejune9 http://t.co/Wfs1gQQZ1K</td>\n",
       "      <td>POINT (-73.82367859999999 40.6906234)</td>\n",
       "      <td>2015-02-09 22:03:05</td>\n",
       "      <td>-73.823679</td>\n",
       "      <td>40.690623</td>\n",
       "    </tr>\n",
       "    <tr>\n",
       "      <th>1</th>\n",
       "      <td>48389</td>\n",
       "      <td>53130</td>\n",
       "      <td>NaN</td>\n",
       "      <td>MrNaassir</td>\n",
       "      <td>Mon Feb 09 21:58:41 +0000 2015</td>\n",
       "      <td>564906255731658753</td>\n",
       "      <td>New Yark City.New York. U.S.A.</td>\n",
       "      <td>{u'type': u'Point', u'coordinates': [40.690586...</td>\n",
       "      <td>{u'full_name': u'Queens, NY', u'url': u'https:...</td>\n",
       "      <td>Sat Jun 20 00:18:35 +0000 2009</td>\n",
       "      <td>1</td>\n",
       "      <td>@b13436527cee4e9:@nsmo2 @Queen_manal @KmQlJjrq...</td>\n",
       "      <td>POINT (-73.82390989 40.6905861)</td>\n",
       "      <td>2015-02-09 21:58:41</td>\n",
       "      <td>-73.823910</td>\n",
       "      <td>40.690586</td>\n",
       "    </tr>\n",
       "    <tr>\n",
       "      <th>2</th>\n",
       "      <td>48562</td>\n",
       "      <td>53303</td>\n",
       "      <td>NaN</td>\n",
       "      <td>MrNaassir</td>\n",
       "      <td>Mon Feb 09 21:52:43 +0000 2015</td>\n",
       "      <td>564904752870600704</td>\n",
       "      <td>New Yark City.New York. U.S.A.</td>\n",
       "      <td>{u'type': u'Point', u'coordinates': [40.690459...</td>\n",
       "      <td>{u'full_name': u'Queens, NY', u'url': u'https:...</td>\n",
       "      <td>Sat Jun 20 00:18:35 +0000 2009</td>\n",
       "      <td>0</td>\n",
       "      <td>@AfredoMM1965: @MrNaassir merci beaucoup ! \\n\\...</td>\n",
       "      <td>POINT (-73.82384273 40.6904596)</td>\n",
       "      <td>2015-02-09 21:52:43</td>\n",
       "      <td>-73.823843</td>\n",
       "      <td>40.690460</td>\n",
       "    </tr>\n",
       "    <tr>\n",
       "      <th>3</th>\n",
       "      <td>48583</td>\n",
       "      <td>53324</td>\n",
       "      <td>NaN</td>\n",
       "      <td>MrNaassir</td>\n",
       "      <td>Mon Feb 09 21:51:55 +0000 2015</td>\n",
       "      <td>564904552747773952</td>\n",
       "      <td>New Yark City.New York. U.S.A.</td>\n",
       "      <td>{u'type': u'Point', u'coordinates': [40.690524...</td>\n",
       "      <td>{u'full_name': u'Queens, NY', u'url': u'https:...</td>\n",
       "      <td>Sat Jun 20 00:18:35 +0000 2009</td>\n",
       "      <td>1</td>\n",
       "      <td>@almohid @dermott_ann @GCHDutta @Domi52778 @Le...</td>\n",
       "      <td>POINT (-73.82379426999999 40.69052428)</td>\n",
       "      <td>2015-02-09 21:51:55</td>\n",
       "      <td>-73.823794</td>\n",
       "      <td>40.690524</td>\n",
       "    </tr>\n",
       "    <tr>\n",
       "      <th>4</th>\n",
       "      <td>48589</td>\n",
       "      <td>53330</td>\n",
       "      <td>NaN</td>\n",
       "      <td>MrNaassir</td>\n",
       "      <td>Mon Feb 09 21:51:34 +0000 2015</td>\n",
       "      <td>564904465212669952</td>\n",
       "      <td>New Yark City.New York. U.S.A.</td>\n",
       "      <td>{u'type': u'Point', u'coordinates': [40.690524...</td>\n",
       "      <td>{u'full_name': u'Queens, NY', u'url': u'https:...</td>\n",
       "      <td>Sat Jun 20 00:18:35 +0000 2009</td>\n",
       "      <td>1</td>\n",
       "      <td>@royca60 @almohid @Leonor188 @dermott_ann @GCH...</td>\n",
       "      <td>POINT (-73.82379426999999 40.69052428)</td>\n",
       "      <td>2015-02-09 21:51:34</td>\n",
       "      <td>-73.823794</td>\n",
       "      <td>40.690524</td>\n",
       "    </tr>\n",
       "  </tbody>\n",
       "</table>\n",
       "</div>"
      ],
      "text/plain": [
       "   Unnamed: 0  Unnamed: 0.1  UserID   Username  \\\n",
       "0       48249         52990     NaN  MrNaassir   \n",
       "1       48389         53130     NaN  MrNaassir   \n",
       "2       48562         53303     NaN  MrNaassir   \n",
       "3       48583         53324     NaN  MrNaassir   \n",
       "4       48589         53330     NaN  MrNaassir   \n",
       "\n",
       "                       Tweeted_At            Tweet ID  \\\n",
       "0  Mon Feb 09 22:03:05 +0000 2015  564907364563025922   \n",
       "1  Mon Feb 09 21:58:41 +0000 2015  564906255731658753   \n",
       "2  Mon Feb 09 21:52:43 +0000 2015  564904752870600704   \n",
       "3  Mon Feb 09 21:51:55 +0000 2015  564904552747773952   \n",
       "4  Mon Feb 09 21:51:34 +0000 2015  564904465212669952   \n",
       "\n",
       "                         Location  \\\n",
       "0  New Yark City.New York. U.S.A.   \n",
       "1  New Yark City.New York. U.S.A.   \n",
       "2  New Yark City.New York. U.S.A.   \n",
       "3  New Yark City.New York. U.S.A.   \n",
       "4  New Yark City.New York. U.S.A.   \n",
       "\n",
       "                                                 Geo  \\\n",
       "0  {u'type': u'Point', u'coordinates': [40.690623...   \n",
       "1  {u'type': u'Point', u'coordinates': [40.690586...   \n",
       "2  {u'type': u'Point', u'coordinates': [40.690459...   \n",
       "3  {u'type': u'Point', u'coordinates': [40.690524...   \n",
       "4  {u'type': u'Point', u'coordinates': [40.690524...   \n",
       "\n",
       "                                               Place  \\\n",
       "0  {u'full_name': u'Queens, NY', u'url': u'https:...   \n",
       "1  {u'full_name': u'Queens, NY', u'url': u'https:...   \n",
       "2  {u'full_name': u'Queens, NY', u'url': u'https:...   \n",
       "3  {u'full_name': u'Queens, NY', u'url': u'https:...   \n",
       "4  {u'full_name': u'Queens, NY', u'url': u'https:...   \n",
       "\n",
       "                Profile_Create_at  Retweeted_Count  \\\n",
       "0  Sat Jun 20 00:18:35 +0000 2009                0   \n",
       "1  Sat Jun 20 00:18:35 +0000 2009                1   \n",
       "2  Sat Jun 20 00:18:35 +0000 2009                0   \n",
       "3  Sat Jun 20 00:18:35 +0000 2009                1   \n",
       "4  Sat Jun 20 00:18:35 +0000 2009                1   \n",
       "\n",
       "                                                Text  \\\n",
       "0                @brookejune9 http://t.co/Wfs1gQQZ1K   \n",
       "1  @b13436527cee4e9:@nsmo2 @Queen_manal @KmQlJjrq...   \n",
       "2  @AfredoMM1965: @MrNaassir merci beaucoup ! \\n\\...   \n",
       "3  @almohid @dermott_ann @GCHDutta @Domi52778 @Le...   \n",
       "4  @royca60 @almohid @Leonor188 @dermott_ann @GCH...   \n",
       "\n",
       "                                 geometry             datetime          x  \\\n",
       "0   POINT (-73.82367859999999 40.6906234)  2015-02-09 22:03:05 -73.823679   \n",
       "1         POINT (-73.82390989 40.6905861)  2015-02-09 21:58:41 -73.823910   \n",
       "2         POINT (-73.82384273 40.6904596)  2015-02-09 21:52:43 -73.823843   \n",
       "3  POINT (-73.82379426999999 40.69052428)  2015-02-09 21:51:55 -73.823794   \n",
       "4  POINT (-73.82379426999999 40.69052428)  2015-02-09 21:51:34 -73.823794   \n",
       "\n",
       "           y  \n",
       "0  40.690623  \n",
       "1  40.690586  \n",
       "2  40.690460  \n",
       "3  40.690524  \n",
       "4  40.690524  "
      ]
     },
     "execution_count": 6,
     "metadata": {},
     "output_type": "execute_result"
    }
   ],
   "source": [
    "data.head()"
   ]
  },
  {
   "cell_type": "code",
   "execution_count": 7,
   "metadata": {
    "collapsed": false
   },
   "outputs": [
    {
     "data": {
      "text/plain": [
       "<matplotlib.axes._subplots.AxesSubplot at 0x7fbfbd88c750>"
      ]
     },
     "execution_count": 7,
     "metadata": {},
     "output_type": "execute_result"
    },
    {
     "data": {
      "image/png": "[encoded data removed]",
      "text/plain": [
       "<matplotlib.figure.Figure at 0x7fbff57d3390>"
      ]
     },
     "metadata": {},
     "output_type": "display_data"
    }
   ],
   "source": [
    "data.plot()"
   ]
  },
  {
   "cell_type": "code",
   "execution_count": 8,
   "metadata": {
    "collapsed": false
   },
   "outputs": [],
   "source": [
    "#convert date\n",
    "data.datetime = pd.to_datetime(data.datetime)\n",
    "#filter dates mondays tuesdays, wednesdays and thursday\n",
    "weekdays = [i.weekday()<=4 for i in data.datetime]\n",
    "\n"
   ]
  },
  {
   "cell_type": "code",
   "execution_count": 9,
   "metadata": {
    "collapsed": false
   },
   "outputs": [
    {
     "data": {
      "text/plain": [
       "<matplotlib.axes._subplots.AxesSubplot at 0x7fbfb7bbb790>"
      ]
     },
     "execution_count": 9,
     "metadata": {},
     "output_type": "execute_result"
    },
    {
     "data": {
      "image/png": "[encoded data removed]",
      "text/plain": [
       "<matplotlib.figure.Figure at 0x7fbfb7d0ac50>"
      ]
     },
     "metadata": {},
     "output_type": "display_data"
    }
   ],
   "source": [
    "data.loc[weekdays,:].plot()"
   ]
  },
  {
   "cell_type": "code",
   "execution_count": 10,
   "metadata": {
    "collapsed": false
   },
   "outputs": [],
   "source": [
    "#filter hours from 8 pm to 1 am\n",
    "homeHours = pd.Series([i.hour for i in data.datetime])\n",
    "#homeHours.value_counts()"
   ]
  },
  {
   "cell_type": "code",
   "execution_count": 11,
   "metadata": {
    "collapsed": false
   },
   "outputs": [
    {
     "data": {
      "text/plain": [
       "445"
      ]
     },
     "execution_count": 11,
     "metadata": {},
     "output_type": "execute_result"
    }
   ],
   "source": [
    "homeHoursFilter =  ((homeHours >= 20) | (homeHours <=2))\n",
    "homeHoursFilter.sum()"
   ]
  },
  {
   "cell_type": "code",
   "execution_count": 12,
   "metadata": {
    "collapsed": true
   },
   "outputs": [],
   "source": [
    "dataFiltered = data.loc[weekdays & homeHoursFilter,:]"
   ]
  },
  {
   "cell_type": "code",
   "execution_count": 13,
   "metadata": {
    "collapsed": false
   },
   "outputs": [
    {
     "data": {
      "text/plain": [
       "<matplotlib.axes._subplots.AxesSubplot at 0x7fbfb5f5d410>"
      ]
     },
     "execution_count": 13,
     "metadata": {},
     "output_type": "execute_result"
    },
    {
     "data": {
      "image/png": "[encoded data removed]",
      "text/plain": [
       "<matplotlib.figure.Figure at 0x7fbfb5f50350>"
      ]
     },
     "metadata": {},
     "output_type": "display_data"
    }
   ],
   "source": [
    "dataFiltered.plot()"
   ]
  },
  {
   "cell_type": "code",
   "execution_count": 14,
   "metadata": {
    "collapsed": true
   },
   "outputs": [],
   "source": [
    "X = dataFiltered.loc[:,['x','y']].values"
   ]
  },
  {
   "cell_type": "code",
   "execution_count": 15,
   "metadata": {
    "collapsed": false
   },
   "outputs": [
    {
     "name": "stdout",
     "output_type": "stream",
     "text": [
      "For n_clusters =3, the average silhouette_score is :0.995532836709\n"
     ]
    }
   ],
   "source": [
    "maxK = 10\n",
    "silhouScore = 0\n",
    "finalClusters = 0\n",
    "\n",
    "for n_clusters in range(2,maxK):\n",
    "    #run the clustering\n",
    "    \n",
    "    gm=GaussianMixture(n_components=n_clusters,random_state=324)\n",
    "\n",
    "    #assign labels of clusters\n",
    "    cluster_labels=gm.fit(X).predict(X)\n",
    "\n",
    "    #calculate average for each cluster\n",
    "    silhouette_avg = silhouette_score(X, cluster_labels)\n",
    "    if silhouette_avg > silhouScore:\n",
    "        silhouScore = silhouette_avg\n",
    "        finalClusters = n_clusters\n",
    "        \n",
    "print(\"For n_clusters ={},\".format(finalClusters)+\" the average silhouette_score is :{}\".format(silhouScore))\n",
    "\n"
   ]
  },
  {
   "cell_type": "code",
   "execution_count": 16,
   "metadata": {
    "collapsed": false
   },
   "outputs": [
    {
     "name": "stderr",
     "output_type": "stream",
     "text": [
      "/home/pipe/anaconda2/lib/python2.7/site-packages/ipykernel/__main__.py:3: SettingWithCopyWarning: \n",
      "A value is trying to be set on a copy of a slice from a DataFrame.\n",
      "Try using .loc[row_indexer,col_indexer] = value instead\n",
      "\n",
      "See the caveats in the documentation: http://pandas.pydata.org/pandas-docs/stable/indexing.html#indexing-view-versus-copy\n",
      "  app.launch_new_instance()\n"
     ]
    }
   ],
   "source": [
    "gm=GaussianMixture(n_components=finalClusters,random_state=324)\n",
    "res1=gm.fit(X)\n",
    "dataFiltered['cluster'] = res1.predict(X)"
   ]
  },
  {
   "cell_type": "code",
   "execution_count": 17,
   "metadata": {
    "collapsed": false
   },
   "outputs": [
    {
     "data": {
      "text/plain": [
       "<matplotlib.axes._subplots.AxesSubplot at 0x7fbfb5b18ad0>"
      ]
     },
     "execution_count": 17,
     "metadata": {},
     "output_type": "execute_result"
    },
    {
     "data": {
      "image/png": "[encoded data removed]",
      "text/plain": [
       "<matplotlib.figure.Figure at 0x7fbfb5b18250>"
      ]
     },
     "metadata": {},
     "output_type": "display_data"
    }
   ],
   "source": [
    "fig = plt.figure(figsize=(8,6))\n",
    "ax = fig.add_subplot(1,1,1)\n",
    "dataFiltered.plot(column = 'cluster',cmap='viridis',ax=ax)"
   ]
  },
  {
   "cell_type": "code",
   "execution_count": 19,
   "metadata": {
    "collapsed": false
   },
   "outputs": [
    {
     "data": {
      "image/png": "[encoded data removed]",
      "text/plain": [
       "<matplotlib.figure.Figure at 0x7fbfb5b18750>"
      ]
     },
     "metadata": {},
     "output_type": "display_data"
    }
   ],
   "source": [
    "toSave = dataFiltered.loc[dataFiltered.cluster==0,['Tweet ID','x','y','geometry']]\n",
    "toSave.plot()\n",
    "gpd.GeoDataFrame.to_file(toSave,'shapes/mrNaasir.shp') \n"
   ]
  },
  {
   "cell_type": "code",
   "execution_count": null,
   "metadata": {
    "collapsed": true
   },
   "outputs": [],
   "source": []
  }
 ],
 "metadata": {
  "anaconda-cloud": {},
  "kernelspec": {
   "display_name": "Python [default]",
   "language": "python",
   "name": "python2"
  },
  "language_info": {
   "codemirror_mode": {
    "name": "ipython",
    "version": 2
   },
   "file_extension": ".py",
   "mimetype": "text/x-python",
   "name": "python",
   "nbconvert_exporter": "python",
   "pygments_lexer": "ipython2",
   "version": "2.7.12"
  }
 },
 "nbformat": 4,
 "nbformat_minor": 1
}
