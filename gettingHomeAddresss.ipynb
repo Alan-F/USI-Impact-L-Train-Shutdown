{
 "cells": [
  {
   "cell_type": "markdown",
   "metadata": {},
   "source": [
    "This notebooks is an attempt to infere a home address based on twitter data from an user"
   ]
  },
  {
   "cell_type": "code",
   "execution_count": 86,
   "metadata": {
    "collapsed": true
   },
   "outputs": [],
   "source": [
    "import pandas as pd\n",
    "import numpy as np\n",
    "import geopandas as gpd\n",
    "from shapely.geometry import Point\n",
    "import pickle\n",
    "import matplotlib.pyplot as plt\n",
    "%matplotlib inline"
   ]
  },
  {
   "cell_type": "code",
   "execution_count": 87,
   "metadata": {
    "collapsed": true
   },
   "outputs": [],
   "source": [
    "data = pd.read_csv('data/MrNaassir.csv')"
   ]
  },
  {
   "cell_type": "code",
   "execution_count": 88,
   "metadata": {
    "collapsed": false
   },
   "outputs": [
    {
     "data": {
      "text/html": [
       "<div>\n",
       "<table border=\"1\" class=\"dataframe\">\n",
       "  <thead>\n",
       "    <tr style=\"text-align: right;\">\n",
       "      <th></th>\n",
       "      <th>Unnamed: 0</th>\n",
       "      <th>Unnamed: 0.1</th>\n",
       "      <th>UserID</th>\n",
       "      <th>Username</th>\n",
       "      <th>Tweeted_At</th>\n",
       "      <th>Tweet ID</th>\n",
       "      <th>Location</th>\n",
       "      <th>Geo</th>\n",
       "      <th>Place</th>\n",
       "      <th>Profile_Create_at</th>\n",
       "      <th>Retweeted_Count</th>\n",
       "      <th>Text</th>\n",
       "      <th>geometry</th>\n",
       "      <th>datetime</th>\n",
       "    </tr>\n",
       "  </thead>\n",
       "  <tbody>\n",
       "    <tr>\n",
       "      <th>0</th>\n",
       "      <td>48249</td>\n",
       "      <td>52990</td>\n",
       "      <td>NaN</td>\n",
       "      <td>MrNaassir</td>\n",
       "      <td>Mon Feb 09 22:03:05 +0000 2015</td>\n",
       "      <td>564907364563025922</td>\n",
       "      <td>New Yark City.New York. U.S.A.</td>\n",
       "      <td>{u'type': u'Point', u'coordinates': [40.690623...</td>\n",
       "      <td>{u'full_name': u'Queens, NY', u'url': u'https:...</td>\n",
       "      <td>Sat Jun 20 00:18:35 +0000 2009</td>\n",
       "      <td>0</td>\n",
       "      <td>@brookejune9 http://t.co/Wfs1gQQZ1K</td>\n",
       "      <td>POINT (40.6906234 -73.82367859999999)</td>\n",
       "      <td>2015-02-09 22:03:05</td>\n",
       "    </tr>\n",
       "    <tr>\n",
       "      <th>1</th>\n",
       "      <td>48389</td>\n",
       "      <td>53130</td>\n",
       "      <td>NaN</td>\n",
       "      <td>MrNaassir</td>\n",
       "      <td>Mon Feb 09 21:58:41 +0000 2015</td>\n",
       "      <td>564906255731658753</td>\n",
       "      <td>New Yark City.New York. U.S.A.</td>\n",
       "      <td>{u'type': u'Point', u'coordinates': [40.690586...</td>\n",
       "      <td>{u'full_name': u'Queens, NY', u'url': u'https:...</td>\n",
       "      <td>Sat Jun 20 00:18:35 +0000 2009</td>\n",
       "      <td>1</td>\n",
       "      <td>@b13436527cee4e9:@nsmo2 @Queen_manal @KmQlJjrq...</td>\n",
       "      <td>POINT (40.6905861 -73.82390989)</td>\n",
       "      <td>2015-02-09 21:58:41</td>\n",
       "    </tr>\n",
       "    <tr>\n",
       "      <th>2</th>\n",
       "      <td>48562</td>\n",
       "      <td>53303</td>\n",
       "      <td>NaN</td>\n",
       "      <td>MrNaassir</td>\n",
       "      <td>Mon Feb 09 21:52:43 +0000 2015</td>\n",
       "      <td>564904752870600704</td>\n",
       "      <td>New Yark City.New York. U.S.A.</td>\n",
       "      <td>{u'type': u'Point', u'coordinates': [40.690459...</td>\n",
       "      <td>{u'full_name': u'Queens, NY', u'url': u'https:...</td>\n",
       "      <td>Sat Jun 20 00:18:35 +0000 2009</td>\n",
       "      <td>0</td>\n",
       "      <td>@AfredoMM1965: @MrNaassir merci beaucoup ! \\n\\...</td>\n",
       "      <td>POINT (40.6904596 -73.82384273)</td>\n",
       "      <td>2015-02-09 21:52:43</td>\n",
       "    </tr>\n",
       "    <tr>\n",
       "      <th>3</th>\n",
       "      <td>48583</td>\n",
       "      <td>53324</td>\n",
       "      <td>NaN</td>\n",
       "      <td>MrNaassir</td>\n",
       "      <td>Mon Feb 09 21:51:55 +0000 2015</td>\n",
       "      <td>564904552747773952</td>\n",
       "      <td>New Yark City.New York. U.S.A.</td>\n",
       "      <td>{u'type': u'Point', u'coordinates': [40.690524...</td>\n",
       "      <td>{u'full_name': u'Queens, NY', u'url': u'https:...</td>\n",
       "      <td>Sat Jun 20 00:18:35 +0000 2009</td>\n",
       "      <td>1</td>\n",
       "      <td>@almohid @dermott_ann @GCHDutta @Domi52778 @Le...</td>\n",
       "      <td>POINT (40.69052428 -73.82379426999999)</td>\n",
       "      <td>2015-02-09 21:51:55</td>\n",
       "    </tr>\n",
       "    <tr>\n",
       "      <th>4</th>\n",
       "      <td>48589</td>\n",
       "      <td>53330</td>\n",
       "      <td>NaN</td>\n",
       "      <td>MrNaassir</td>\n",
       "      <td>Mon Feb 09 21:51:34 +0000 2015</td>\n",
       "      <td>564904465212669952</td>\n",
       "      <td>New Yark City.New York. U.S.A.</td>\n",
       "      <td>{u'type': u'Point', u'coordinates': [40.690524...</td>\n",
       "      <td>{u'full_name': u'Queens, NY', u'url': u'https:...</td>\n",
       "      <td>Sat Jun 20 00:18:35 +0000 2009</td>\n",
       "      <td>1</td>\n",
       "      <td>@royca60 @almohid @Leonor188 @dermott_ann @GCH...</td>\n",
       "      <td>POINT (40.69052428 -73.82379426999999)</td>\n",
       "      <td>2015-02-09 21:51:34</td>\n",
       "    </tr>\n",
       "  </tbody>\n",
       "</table>\n",
       "</div>"
      ],
      "text/plain": [
       "   Unnamed: 0  Unnamed: 0.1  UserID   Username  \\\n",
       "0       48249         52990     NaN  MrNaassir   \n",
       "1       48389         53130     NaN  MrNaassir   \n",
       "2       48562         53303     NaN  MrNaassir   \n",
       "3       48583         53324     NaN  MrNaassir   \n",
       "4       48589         53330     NaN  MrNaassir   \n",
       "\n",
       "                       Tweeted_At            Tweet ID  \\\n",
       "0  Mon Feb 09 22:03:05 +0000 2015  564907364563025922   \n",
       "1  Mon Feb 09 21:58:41 +0000 2015  564906255731658753   \n",
       "2  Mon Feb 09 21:52:43 +0000 2015  564904752870600704   \n",
       "3  Mon Feb 09 21:51:55 +0000 2015  564904552747773952   \n",
       "4  Mon Feb 09 21:51:34 +0000 2015  564904465212669952   \n",
       "\n",
       "                         Location  \\\n",
       "0  New Yark City.New York. U.S.A.   \n",
       "1  New Yark City.New York. U.S.A.   \n",
       "2  New Yark City.New York. U.S.A.   \n",
       "3  New Yark City.New York. U.S.A.   \n",
       "4  New Yark City.New York. U.S.A.   \n",
       "\n",
       "                                                 Geo  \\\n",
       "0  {u'type': u'Point', u'coordinates': [40.690623...   \n",
       "1  {u'type': u'Point', u'coordinates': [40.690586...   \n",
       "2  {u'type': u'Point', u'coordinates': [40.690459...   \n",
       "3  {u'type': u'Point', u'coordinates': [40.690524...   \n",
       "4  {u'type': u'Point', u'coordinates': [40.690524...   \n",
       "\n",
       "                                               Place  \\\n",
       "0  {u'full_name': u'Queens, NY', u'url': u'https:...   \n",
       "1  {u'full_name': u'Queens, NY', u'url': u'https:...   \n",
       "2  {u'full_name': u'Queens, NY', u'url': u'https:...   \n",
       "3  {u'full_name': u'Queens, NY', u'url': u'https:...   \n",
       "4  {u'full_name': u'Queens, NY', u'url': u'https:...   \n",
       "\n",
       "                Profile_Create_at  Retweeted_Count  \\\n",
       "0  Sat Jun 20 00:18:35 +0000 2009                0   \n",
       "1  Sat Jun 20 00:18:35 +0000 2009                1   \n",
       "2  Sat Jun 20 00:18:35 +0000 2009                0   \n",
       "3  Sat Jun 20 00:18:35 +0000 2009                1   \n",
       "4  Sat Jun 20 00:18:35 +0000 2009                1   \n",
       "\n",
       "                                                Text  \\\n",
       "0                @brookejune9 http://t.co/Wfs1gQQZ1K   \n",
       "1  @b13436527cee4e9:@nsmo2 @Queen_manal @KmQlJjrq...   \n",
       "2  @AfredoMM1965: @MrNaassir merci beaucoup ! \\n\\...   \n",
       "3  @almohid @dermott_ann @GCHDutta @Domi52778 @Le...   \n",
       "4  @royca60 @almohid @Leonor188 @dermott_ann @GCH...   \n",
       "\n",
       "                                 geometry             datetime  \n",
       "0   POINT (40.6906234 -73.82367859999999)  2015-02-09 22:03:05  \n",
       "1         POINT (40.6905861 -73.82390989)  2015-02-09 21:58:41  \n",
       "2         POINT (40.6904596 -73.82384273)  2015-02-09 21:52:43  \n",
       "3  POINT (40.69052428 -73.82379426999999)  2015-02-09 21:51:55  \n",
       "4  POINT (40.69052428 -73.82379426999999)  2015-02-09 21:51:34  "
      ]
     },
     "execution_count": 88,
     "metadata": {},
     "output_type": "execute_result"
    }
   ],
   "source": [
    "data.head()"
   ]
  },
  {
   "cell_type": "code",
   "execution_count": 89,
   "metadata": {
    "collapsed": false
   },
   "outputs": [
    {
     "data": {
      "text/plain": [
       "'-73.82367859999999'"
      ]
     },
     "execution_count": 89,
     "metadata": {},
     "output_type": "execute_result"
    }
   ],
   "source": [
    "str.split(data.geometry[0],' ')[2].replace(\")\", \"\") "
   ]
  },
  {
   "cell_type": "code",
   "execution_count": 90,
   "metadata": {
    "collapsed": false
   },
   "outputs": [],
   "source": [
    "#convert the data frame into geodataframe\n",
    "y = [float(str.split(i,' ')[1].replace(\"(\", \"\")) for i in data.geometry]\n",
    "x = [float(str.split(i,' ')[2].replace(\")\", \"\")) for i in data.geometry]\n",
    "data['x'] = x\n",
    "data['y'] = y\n",
    "data['geometry'] = [Point(xy) for xy in zip(data.x, data.y)]\n",
    "data = gpd.GeoDataFrame(data, crs=None, geometry=\"geometry\")"
   ]
  },
  {
   "cell_type": "code",
   "execution_count": 91,
   "metadata": {
    "collapsed": false
   },
   "outputs": [
    {
     "data": {
      "text/html": [
       "<div>\n",
       "<table border=\"1\" class=\"dataframe\">\n",
       "  <thead>\n",
       "    <tr style=\"text-align: right;\">\n",
       "      <th></th>\n",
       "      <th>Unnamed: 0</th>\n",
       "      <th>Unnamed: 0.1</th>\n",
       "      <th>UserID</th>\n",
       "      <th>Username</th>\n",
       "      <th>Tweeted_At</th>\n",
       "      <th>Tweet ID</th>\n",
       "      <th>Location</th>\n",
       "      <th>Geo</th>\n",
       "      <th>Place</th>\n",
       "      <th>Profile_Create_at</th>\n",
       "      <th>Retweeted_Count</th>\n",
       "      <th>Text</th>\n",
       "      <th>geometry</th>\n",
       "      <th>datetime</th>\n",
       "      <th>x</th>\n",
       "      <th>y</th>\n",
       "    </tr>\n",
       "  </thead>\n",
       "  <tbody>\n",
       "    <tr>\n",
       "      <th>0</th>\n",
       "      <td>48249</td>\n",
       "      <td>52990</td>\n",
       "      <td>NaN</td>\n",
       "      <td>MrNaassir</td>\n",
       "      <td>Mon Feb 09 22:03:05 +0000 2015</td>\n",
       "      <td>564907364563025922</td>\n",
       "      <td>New Yark City.New York. U.S.A.</td>\n",
       "      <td>{u'type': u'Point', u'coordinates': [40.690623...</td>\n",
       "      <td>{u'full_name': u'Queens, NY', u'url': u'https:...</td>\n",
       "      <td>Sat Jun 20 00:18:35 +0000 2009</td>\n",
       "      <td>0</td>\n",
       "      <td>@brookejune9 http://t.co/Wfs1gQQZ1K</td>\n",
       "      <td>POINT (-73.82367859999999 40.6906234)</td>\n",
       "      <td>2015-02-09 22:03:05</td>\n",
       "      <td>-73.823679</td>\n",
       "      <td>40.690623</td>\n",
       "    </tr>\n",
       "    <tr>\n",
       "      <th>1</th>\n",
       "      <td>48389</td>\n",
       "      <td>53130</td>\n",
       "      <td>NaN</td>\n",
       "      <td>MrNaassir</td>\n",
       "      <td>Mon Feb 09 21:58:41 +0000 2015</td>\n",
       "      <td>564906255731658753</td>\n",
       "      <td>New Yark City.New York. U.S.A.</td>\n",
       "      <td>{u'type': u'Point', u'coordinates': [40.690586...</td>\n",
       "      <td>{u'full_name': u'Queens, NY', u'url': u'https:...</td>\n",
       "      <td>Sat Jun 20 00:18:35 +0000 2009</td>\n",
       "      <td>1</td>\n",
       "      <td>@b13436527cee4e9:@nsmo2 @Queen_manal @KmQlJjrq...</td>\n",
       "      <td>POINT (-73.82390989 40.6905861)</td>\n",
       "      <td>2015-02-09 21:58:41</td>\n",
       "      <td>-73.823910</td>\n",
       "      <td>40.690586</td>\n",
       "    </tr>\n",
       "    <tr>\n",
       "      <th>2</th>\n",
       "      <td>48562</td>\n",
       "      <td>53303</td>\n",
       "      <td>NaN</td>\n",
       "      <td>MrNaassir</td>\n",
       "      <td>Mon Feb 09 21:52:43 +0000 2015</td>\n",
       "      <td>564904752870600704</td>\n",
       "      <td>New Yark City.New York. U.S.A.</td>\n",
       "      <td>{u'type': u'Point', u'coordinates': [40.690459...</td>\n",
       "      <td>{u'full_name': u'Queens, NY', u'url': u'https:...</td>\n",
       "      <td>Sat Jun 20 00:18:35 +0000 2009</td>\n",
       "      <td>0</td>\n",
       "      <td>@AfredoMM1965: @MrNaassir merci beaucoup ! \\n\\...</td>\n",
       "      <td>POINT (-73.82384273 40.6904596)</td>\n",
       "      <td>2015-02-09 21:52:43</td>\n",
       "      <td>-73.823843</td>\n",
       "      <td>40.690460</td>\n",
       "    </tr>\n",
       "    <tr>\n",
       "      <th>3</th>\n",
       "      <td>48583</td>\n",
       "      <td>53324</td>\n",
       "      <td>NaN</td>\n",
       "      <td>MrNaassir</td>\n",
       "      <td>Mon Feb 09 21:51:55 +0000 2015</td>\n",
       "      <td>564904552747773952</td>\n",
       "      <td>New Yark City.New York. U.S.A.</td>\n",
       "      <td>{u'type': u'Point', u'coordinates': [40.690524...</td>\n",
       "      <td>{u'full_name': u'Queens, NY', u'url': u'https:...</td>\n",
       "      <td>Sat Jun 20 00:18:35 +0000 2009</td>\n",
       "      <td>1</td>\n",
       "      <td>@almohid @dermott_ann @GCHDutta @Domi52778 @Le...</td>\n",
       "      <td>POINT (-73.82379426999999 40.69052428)</td>\n",
       "      <td>2015-02-09 21:51:55</td>\n",
       "      <td>-73.823794</td>\n",
       "      <td>40.690524</td>\n",
       "    </tr>\n",
       "    <tr>\n",
       "      <th>4</th>\n",
       "      <td>48589</td>\n",
       "      <td>53330</td>\n",
       "      <td>NaN</td>\n",
       "      <td>MrNaassir</td>\n",
       "      <td>Mon Feb 09 21:51:34 +0000 2015</td>\n",
       "      <td>564904465212669952</td>\n",
       "      <td>New Yark City.New York. U.S.A.</td>\n",
       "      <td>{u'type': u'Point', u'coordinates': [40.690524...</td>\n",
       "      <td>{u'full_name': u'Queens, NY', u'url': u'https:...</td>\n",
       "      <td>Sat Jun 20 00:18:35 +0000 2009</td>\n",
       "      <td>1</td>\n",
       "      <td>@royca60 @almohid @Leonor188 @dermott_ann @GCH...</td>\n",
       "      <td>POINT (-73.82379426999999 40.69052428)</td>\n",
       "      <td>2015-02-09 21:51:34</td>\n",
       "      <td>-73.823794</td>\n",
       "      <td>40.690524</td>\n",
       "    </tr>\n",
       "  </tbody>\n",
       "</table>\n",
       "</div>"
      ],
      "text/plain": [
       "   Unnamed: 0  Unnamed: 0.1  UserID   Username  \\\n",
       "0       48249         52990     NaN  MrNaassir   \n",
       "1       48389         53130     NaN  MrNaassir   \n",
       "2       48562         53303     NaN  MrNaassir   \n",
       "3       48583         53324     NaN  MrNaassir   \n",
       "4       48589         53330     NaN  MrNaassir   \n",
       "\n",
       "                       Tweeted_At            Tweet ID  \\\n",
       "0  Mon Feb 09 22:03:05 +0000 2015  564907364563025922   \n",
       "1  Mon Feb 09 21:58:41 +0000 2015  564906255731658753   \n",
       "2  Mon Feb 09 21:52:43 +0000 2015  564904752870600704   \n",
       "3  Mon Feb 09 21:51:55 +0000 2015  564904552747773952   \n",
       "4  Mon Feb 09 21:51:34 +0000 2015  564904465212669952   \n",
       "\n",
       "                         Location  \\\n",
       "0  New Yark City.New York. U.S.A.   \n",
       "1  New Yark City.New York. U.S.A.   \n",
       "2  New Yark City.New York. U.S.A.   \n",
       "3  New Yark City.New York. U.S.A.   \n",
       "4  New Yark City.New York. U.S.A.   \n",
       "\n",
       "                                                 Geo  \\\n",
       "0  {u'type': u'Point', u'coordinates': [40.690623...   \n",
       "1  {u'type': u'Point', u'coordinates': [40.690586...   \n",
       "2  {u'type': u'Point', u'coordinates': [40.690459...   \n",
       "3  {u'type': u'Point', u'coordinates': [40.690524...   \n",
       "4  {u'type': u'Point', u'coordinates': [40.690524...   \n",
       "\n",
       "                                               Place  \\\n",
       "0  {u'full_name': u'Queens, NY', u'url': u'https:...   \n",
       "1  {u'full_name': u'Queens, NY', u'url': u'https:...   \n",
       "2  {u'full_name': u'Queens, NY', u'url': u'https:...   \n",
       "3  {u'full_name': u'Queens, NY', u'url': u'https:...   \n",
       "4  {u'full_name': u'Queens, NY', u'url': u'https:...   \n",
       "\n",
       "                Profile_Create_at  Retweeted_Count  \\\n",
       "0  Sat Jun 20 00:18:35 +0000 2009                0   \n",
       "1  Sat Jun 20 00:18:35 +0000 2009                1   \n",
       "2  Sat Jun 20 00:18:35 +0000 2009                0   \n",
       "3  Sat Jun 20 00:18:35 +0000 2009                1   \n",
       "4  Sat Jun 20 00:18:35 +0000 2009                1   \n",
       "\n",
       "                                                Text  \\\n",
       "0                @brookejune9 http://t.co/Wfs1gQQZ1K   \n",
       "1  @b13436527cee4e9:@nsmo2 @Queen_manal @KmQlJjrq...   \n",
       "2  @AfredoMM1965: @MrNaassir merci beaucoup ! \\n\\...   \n",
       "3  @almohid @dermott_ann @GCHDutta @Domi52778 @Le...   \n",
       "4  @royca60 @almohid @Leonor188 @dermott_ann @GCH...   \n",
       "\n",
       "                                 geometry             datetime          x  \\\n",
       "0   POINT (-73.82367859999999 40.6906234)  2015-02-09 22:03:05 -73.823679   \n",
       "1         POINT (-73.82390989 40.6905861)  2015-02-09 21:58:41 -73.823910   \n",
       "2         POINT (-73.82384273 40.6904596)  2015-02-09 21:52:43 -73.823843   \n",
       "3  POINT (-73.82379426999999 40.69052428)  2015-02-09 21:51:55 -73.823794   \n",
       "4  POINT (-73.82379426999999 40.69052428)  2015-02-09 21:51:34 -73.823794   \n",
       "\n",
       "           y  \n",
       "0  40.690623  \n",
       "1  40.690586  \n",
       "2  40.690460  \n",
       "3  40.690524  \n",
       "4  40.690524  "
      ]
     },
     "execution_count": 91,
     "metadata": {},
     "output_type": "execute_result"
    }
   ],
   "source": [
    "data.head()"
   ]
  },
  {
   "cell_type": "code",
   "execution_count": 92,
   "metadata": {
    "collapsed": false
   },
   "outputs": [
    {
     "data": {
      "text/plain": [
       "<matplotlib.axes._subplots.AxesSubplot at 0x7f482896b690>"
      ]
     },
     "execution_count": 92,
     "metadata": {},
     "output_type": "execute_result"
    },
    {
     "data": {
      "image/png": "[encoded data removed]",
      "text/plain": [
       "<matplotlib.figure.Figure at 0x7f482890b790>"
      ]
     },
     "metadata": {},
     "output_type": "display_data"
    }
   ],
   "source": [
    "data.plot()"
   ]
  },
  {
   "cell_type": "code",
   "execution_count": 93,
   "metadata": {
    "collapsed": false
   },
   "outputs": [],
   "source": [
    "#convert date\n",
    "data.datetime = pd.to_datetime(data.datetime)\n",
    "#filter dates mondays tuesdays, wednesdays and thursday\n",
    "weekdays = [i.weekday()<=4 for i in data.datetime]\n",
    "\n"
   ]
  },
  {
   "cell_type": "code",
   "execution_count": 94,
   "metadata": {
    "collapsed": false
   },
   "outputs": [
    {
     "data": {
      "text/plain": [
       "<matplotlib.axes._subplots.AxesSubplot at 0x7f48261a6410>"
      ]
     },
     "execution_count": 94,
     "metadata": {},
     "output_type": "execute_result"
    },
    {
     "data": {
      "image/png": "[encoded data removed]",
      "text/plain": [
       "<matplotlib.figure.Figure at 0x7f482890ba10>"
      ]
     },
     "metadata": {},
     "output_type": "display_data"
    }
   ],
   "source": [
    "data.loc[weekdays,:].plot()"
   ]
  },
  {
   "cell_type": "code",
   "execution_count": 149,
   "metadata": {
    "collapsed": false
   },
   "outputs": [
    {
     "data": {
      "text/plain": [
       "9     447\n",
       "8     261\n",
       "10    177\n",
       "21    109\n",
       "12    102\n",
       "20     94\n",
       "4      80\n",
       "11     77\n",
       "1      74\n",
       "2      53\n",
       "13     51\n",
       "23     48\n",
       "3      47\n",
       "7      43\n",
       "0      43\n",
       "6      37\n",
       "14     32\n",
       "5      25\n",
       "22     24\n",
       "16     19\n",
       "17     15\n",
       "19     10\n",
       "18      7\n",
       "dtype: int64"
      ]
     },
     "execution_count": 149,
     "metadata": {},
     "output_type": "execute_result"
    }
   ],
   "source": [
    "#filter hours from 8 pm to 1 am\n",
    "homeHours = pd.Series([i.hour for i in data.datetime])\n",
    "homeHours.value_counts()"
   ]
  },
  {
   "cell_type": "code",
   "execution_count": 150,
   "metadata": {
    "collapsed": false
   },
   "outputs": [
    {
     "data": {
      "text/plain": [
       "445"
      ]
     },
     "execution_count": 150,
     "metadata": {},
     "output_type": "execute_result"
    }
   ],
   "source": [
    "homeHoursFilter =  ((homeHours >= 20) | (homeHours <=2))\n",
    "homeHoursFilter.sum()\n"
   ]
  },
  {
   "cell_type": "code",
   "execution_count": 151,
   "metadata": {
    "collapsed": true
   },
   "outputs": [],
   "source": [
    "dataFiltered = data.loc[weekdays & homeHoursFilter,:]"
   ]
  },
  {
   "cell_type": "code",
   "execution_count": 152,
   "metadata": {
    "collapsed": false
   },
   "outputs": [
    {
     "data": {
      "text/plain": [
       "<matplotlib.axes._subplots.AxesSubplot at 0x7f4823b61a10>"
      ]
     },
     "execution_count": 152,
     "metadata": {},
     "output_type": "execute_result"
    },
    {
     "data": {
      "image/png": "[encoded data removed]",
      "text/plain": [
       "<matplotlib.figure.Figure at 0x7f4823b72a50>"
      ]
     },
     "metadata": {},
     "output_type": "display_data"
    }
   ],
   "source": [
    "dataFiltered.plot()"
   ]
  },
  {
   "cell_type": "code",
   "execution_count": 153,
   "metadata": {
    "collapsed": false
   },
   "outputs": [
    {
     "data": {
      "text/html": [
       "<div>\n",
       "<table border=\"1\" class=\"dataframe\">\n",
       "  <thead>\n",
       "    <tr style=\"text-align: right;\">\n",
       "      <th></th>\n",
       "      <th>Unnamed: 0</th>\n",
       "      <th>Unnamed: 0.1</th>\n",
       "      <th>UserID</th>\n",
       "      <th>Username</th>\n",
       "      <th>Tweeted_At</th>\n",
       "      <th>Tweet ID</th>\n",
       "      <th>Location</th>\n",
       "      <th>Geo</th>\n",
       "      <th>Place</th>\n",
       "      <th>Profile_Create_at</th>\n",
       "      <th>Retweeted_Count</th>\n",
       "      <th>Text</th>\n",
       "      <th>geometry</th>\n",
       "      <th>datetime</th>\n",
       "      <th>x</th>\n",
       "      <th>y</th>\n",
       "      <th>homeHours</th>\n",
       "    </tr>\n",
       "  </thead>\n",
       "  <tbody>\n",
       "    <tr>\n",
       "      <th>0</th>\n",
       "      <td>48249</td>\n",
       "      <td>52990</td>\n",
       "      <td>NaN</td>\n",
       "      <td>MrNaassir</td>\n",
       "      <td>Mon Feb 09 22:03:05 +0000 2015</td>\n",
       "      <td>564907364563025922</td>\n",
       "      <td>New Yark City.New York. U.S.A.</td>\n",
       "      <td>{u'type': u'Point', u'coordinates': [40.690623...</td>\n",
       "      <td>{u'full_name': u'Queens, NY', u'url': u'https:...</td>\n",
       "      <td>Sat Jun 20 00:18:35 +0000 2009</td>\n",
       "      <td>0</td>\n",
       "      <td>@brookejune9 http://t.co/Wfs1gQQZ1K</td>\n",
       "      <td>POINT (-73.82367859999999 40.6906234)</td>\n",
       "      <td>2015-02-09 22:03:05</td>\n",
       "      <td>-73.823679</td>\n",
       "      <td>40.690623</td>\n",
       "      <td>43.0</td>\n",
       "    </tr>\n",
       "    <tr>\n",
       "      <th>1</th>\n",
       "      <td>48389</td>\n",
       "      <td>53130</td>\n",
       "      <td>NaN</td>\n",
       "      <td>MrNaassir</td>\n",
       "      <td>Mon Feb 09 21:58:41 +0000 2015</td>\n",
       "      <td>564906255731658753</td>\n",
       "      <td>New Yark City.New York. U.S.A.</td>\n",
       "      <td>{u'type': u'Point', u'coordinates': [40.690586...</td>\n",
       "      <td>{u'full_name': u'Queens, NY', u'url': u'https:...</td>\n",
       "      <td>Sat Jun 20 00:18:35 +0000 2009</td>\n",
       "      <td>1</td>\n",
       "      <td>@b13436527cee4e9:@nsmo2 @Queen_manal @KmQlJjrq...</td>\n",
       "      <td>POINT (-73.82390989 40.6905861)</td>\n",
       "      <td>2015-02-09 21:58:41</td>\n",
       "      <td>-73.823910</td>\n",
       "      <td>40.690586</td>\n",
       "      <td>74.0</td>\n",
       "    </tr>\n",
       "    <tr>\n",
       "      <th>2</th>\n",
       "      <td>48562</td>\n",
       "      <td>53303</td>\n",
       "      <td>NaN</td>\n",
       "      <td>MrNaassir</td>\n",
       "      <td>Mon Feb 09 21:52:43 +0000 2015</td>\n",
       "      <td>564904752870600704</td>\n",
       "      <td>New Yark City.New York. U.S.A.</td>\n",
       "      <td>{u'type': u'Point', u'coordinates': [40.690459...</td>\n",
       "      <td>{u'full_name': u'Queens, NY', u'url': u'https:...</td>\n",
       "      <td>Sat Jun 20 00:18:35 +0000 2009</td>\n",
       "      <td>0</td>\n",
       "      <td>@AfredoMM1965: @MrNaassir merci beaucoup ! \\n\\...</td>\n",
       "      <td>POINT (-73.82384273 40.6904596)</td>\n",
       "      <td>2015-02-09 21:52:43</td>\n",
       "      <td>-73.823843</td>\n",
       "      <td>40.690460</td>\n",
       "      <td>53.0</td>\n",
       "    </tr>\n",
       "    <tr>\n",
       "      <th>3</th>\n",
       "      <td>48583</td>\n",
       "      <td>53324</td>\n",
       "      <td>NaN</td>\n",
       "      <td>MrNaassir</td>\n",
       "      <td>Mon Feb 09 21:51:55 +0000 2015</td>\n",
       "      <td>564904552747773952</td>\n",
       "      <td>New Yark City.New York. U.S.A.</td>\n",
       "      <td>{u'type': u'Point', u'coordinates': [40.690524...</td>\n",
       "      <td>{u'full_name': u'Queens, NY', u'url': u'https:...</td>\n",
       "      <td>Sat Jun 20 00:18:35 +0000 2009</td>\n",
       "      <td>1</td>\n",
       "      <td>@almohid @dermott_ann @GCHDutta @Domi52778 @Le...</td>\n",
       "      <td>POINT (-73.82379426999999 40.69052428)</td>\n",
       "      <td>2015-02-09 21:51:55</td>\n",
       "      <td>-73.823794</td>\n",
       "      <td>40.690524</td>\n",
       "      <td>47.0</td>\n",
       "    </tr>\n",
       "    <tr>\n",
       "      <th>4</th>\n",
       "      <td>48589</td>\n",
       "      <td>53330</td>\n",
       "      <td>NaN</td>\n",
       "      <td>MrNaassir</td>\n",
       "      <td>Mon Feb 09 21:51:34 +0000 2015</td>\n",
       "      <td>564904465212669952</td>\n",
       "      <td>New Yark City.New York. U.S.A.</td>\n",
       "      <td>{u'type': u'Point', u'coordinates': [40.690524...</td>\n",
       "      <td>{u'full_name': u'Queens, NY', u'url': u'https:...</td>\n",
       "      <td>Sat Jun 20 00:18:35 +0000 2009</td>\n",
       "      <td>1</td>\n",
       "      <td>@royca60 @almohid @Leonor188 @dermott_ann @GCH...</td>\n",
       "      <td>POINT (-73.82379426999999 40.69052428)</td>\n",
       "      <td>2015-02-09 21:51:34</td>\n",
       "      <td>-73.823794</td>\n",
       "      <td>40.690524</td>\n",
       "      <td>80.0</td>\n",
       "    </tr>\n",
       "  </tbody>\n",
       "</table>\n",
       "</div>"
      ],
      "text/plain": [
       "   Unnamed: 0  Unnamed: 0.1  UserID   Username  \\\n",
       "0       48249         52990     NaN  MrNaassir   \n",
       "1       48389         53130     NaN  MrNaassir   \n",
       "2       48562         53303     NaN  MrNaassir   \n",
       "3       48583         53324     NaN  MrNaassir   \n",
       "4       48589         53330     NaN  MrNaassir   \n",
       "\n",
       "                       Tweeted_At            Tweet ID  \\\n",
       "0  Mon Feb 09 22:03:05 +0000 2015  564907364563025922   \n",
       "1  Mon Feb 09 21:58:41 +0000 2015  564906255731658753   \n",
       "2  Mon Feb 09 21:52:43 +0000 2015  564904752870600704   \n",
       "3  Mon Feb 09 21:51:55 +0000 2015  564904552747773952   \n",
       "4  Mon Feb 09 21:51:34 +0000 2015  564904465212669952   \n",
       "\n",
       "                         Location  \\\n",
       "0  New Yark City.New York. U.S.A.   \n",
       "1  New Yark City.New York. U.S.A.   \n",
       "2  New Yark City.New York. U.S.A.   \n",
       "3  New Yark City.New York. U.S.A.   \n",
       "4  New Yark City.New York. U.S.A.   \n",
       "\n",
       "                                                 Geo  \\\n",
       "0  {u'type': u'Point', u'coordinates': [40.690623...   \n",
       "1  {u'type': u'Point', u'coordinates': [40.690586...   \n",
       "2  {u'type': u'Point', u'coordinates': [40.690459...   \n",
       "3  {u'type': u'Point', u'coordinates': [40.690524...   \n",
       "4  {u'type': u'Point', u'coordinates': [40.690524...   \n",
       "\n",
       "                                               Place  \\\n",
       "0  {u'full_name': u'Queens, NY', u'url': u'https:...   \n",
       "1  {u'full_name': u'Queens, NY', u'url': u'https:...   \n",
       "2  {u'full_name': u'Queens, NY', u'url': u'https:...   \n",
       "3  {u'full_name': u'Queens, NY', u'url': u'https:...   \n",
       "4  {u'full_name': u'Queens, NY', u'url': u'https:...   \n",
       "\n",
       "                Profile_Create_at  Retweeted_Count  \\\n",
       "0  Sat Jun 20 00:18:35 +0000 2009                0   \n",
       "1  Sat Jun 20 00:18:35 +0000 2009                1   \n",
       "2  Sat Jun 20 00:18:35 +0000 2009                0   \n",
       "3  Sat Jun 20 00:18:35 +0000 2009                1   \n",
       "4  Sat Jun 20 00:18:35 +0000 2009                1   \n",
       "\n",
       "                                                Text  \\\n",
       "0                @brookejune9 http://t.co/Wfs1gQQZ1K   \n",
       "1  @b13436527cee4e9:@nsmo2 @Queen_manal @KmQlJjrq...   \n",
       "2  @AfredoMM1965: @MrNaassir merci beaucoup ! \\n\\...   \n",
       "3  @almohid @dermott_ann @GCHDutta @Domi52778 @Le...   \n",
       "4  @royca60 @almohid @Leonor188 @dermott_ann @GCH...   \n",
       "\n",
       "                                 geometry            datetime          x  \\\n",
       "0   POINT (-73.82367859999999 40.6906234) 2015-02-09 22:03:05 -73.823679   \n",
       "1         POINT (-73.82390989 40.6905861) 2015-02-09 21:58:41 -73.823910   \n",
       "2         POINT (-73.82384273 40.6904596) 2015-02-09 21:52:43 -73.823843   \n",
       "3  POINT (-73.82379426999999 40.69052428) 2015-02-09 21:51:55 -73.823794   \n",
       "4  POINT (-73.82379426999999 40.69052428) 2015-02-09 21:51:34 -73.823794   \n",
       "\n",
       "           y  homeHours  \n",
       "0  40.690623       43.0  \n",
       "1  40.690586       74.0  \n",
       "2  40.690460       53.0  \n",
       "3  40.690524       47.0  \n",
       "4  40.690524       80.0  "
      ]
     },
     "execution_count": 153,
     "metadata": {},
     "output_type": "execute_result"
    }
   ],
   "source": [
    "dataFiltered.head()"
   ]
  },
  {
   "cell_type": "code",
   "execution_count": 154,
   "metadata": {
    "collapsed": false
   },
   "outputs": [
    {
     "data": {
      "text/plain": [
       "(186, 17)"
      ]
     },
     "execution_count": 154,
     "metadata": {},
     "output_type": "execute_result"
    }
   ],
   "source": [
    "#cluster position\n",
    "dataFiltered.shape"
   ]
  },
  {
   "cell_type": "code",
   "execution_count": 155,
   "metadata": {
    "collapsed": true
   },
   "outputs": [],
   "source": [
    "X = dataFiltered.loc[:,['x','y']].values"
   ]
  },
  {
   "cell_type": "code",
   "execution_count": 164,
   "metadata": {
    "collapsed": false
   },
   "outputs": [
    {
     "name": "stderr",
     "output_type": "stream",
     "text": [
      "/home/pipe/anaconda2/lib/python2.7/site-packages/ipykernel/__main__.py:6: SettingWithCopyWarning: \n",
      "A value is trying to be set on a copy of a slice from a DataFrame.\n",
      "Try using .loc[row_indexer,col_indexer] = value instead\n",
      "\n",
      "See the caveats in the documentation: http://pandas.pydata.org/pandas-docs/stable/indexing.html#indexing-view-versus-copy\n"
     ]
    }
   ],
   "source": [
    "from sklearn.mixture import GaussianMixture # You can import this only if you are using 0.18+ sklearn.\n",
    "gm=GaussianMixture(n_components=4,random_state=324)\n",
    "\n",
    "res1=gm.fit(X)\n",
    "\n",
    "dataFiltered['cluster'] = res1.predict(X)"
   ]
  },
  {
   "cell_type": "code",
   "execution_count": 165,
   "metadata": {
    "collapsed": false
   },
   "outputs": [
    {
     "data": {
      "text/plain": [
       "0    131\n",
       "1     33\n",
       "2     21\n",
       "3      1\n",
       "Name: cluster, dtype: int64"
      ]
     },
     "execution_count": 165,
     "metadata": {},
     "output_type": "execute_result"
    }
   ],
   "source": [
    "dataFiltered.cluster.value_counts()"
   ]
  },
  {
   "cell_type": "code",
   "execution_count": 166,
   "metadata": {
    "collapsed": false
   },
   "outputs": [
    {
     "data": {
      "text/plain": [
       "<matplotlib.axes._subplots.AxesSubplot at 0x7f4816022c90>"
      ]
     },
     "execution_count": 166,
     "metadata": {},
     "output_type": "execute_result"
    },
    {
     "data": {
      "image/png": "[encoded data removed]",
      "text/plain": [
       "<matplotlib.figure.Figure at 0x7f4816022250>"
      ]
     },
     "metadata": {},
     "output_type": "display_data"
    }
   ],
   "source": [
    "fig = plt.figure(figsize=(8,6))\n",
    "ax = fig.add_subplot(1,1,1)\n",
    "dataFiltered.plot(column = 'cluster',cmap='viridis',ax=ax)"
   ]
  },
  {
   "cell_type": "code",
   "execution_count": 167,
   "metadata": {
    "collapsed": false
   },
   "outputs": [
    {
     "data": {
      "text/plain": [
       "<matplotlib.axes._subplots.AxesSubplot at 0x7f481576a090>"
      ]
     },
     "execution_count": 167,
     "metadata": {},
     "output_type": "execute_result"
    },
    {
     "data": {
      "image/png": "[encoded data removed]",
      "text/plain": [
       "<matplotlib.figure.Figure at 0x7f4816076390>"
      ]
     },
     "metadata": {},
     "output_type": "display_data"
    }
   ],
   "source": [
    "#this is probably the house\n",
    "dataFiltered.loc[dataFiltered.cluster==0,:].plot()"
   ]
  },
  {
   "cell_type": "code",
   "execution_count": 174,
   "metadata": {
    "collapsed": false
   },
   "outputs": [
    {
     "ename": "ValueError",
     "evalue": "Null layer",
     "output_type": "error",
     "traceback": [
      "\u001b[0;31m---------------------------------------------------------------------------\u001b[0m",
      "\u001b[0;31mValueError\u001b[0m                                Traceback (most recent call last)",
      "\u001b[0;32m<ipython-input-174-444fa759697c>\u001b[0m in \u001b[0;36m<module>\u001b[0;34m()\u001b[0m\n\u001b[1;32m      1\u001b[0m \u001b[0mtoSave\u001b[0m \u001b[0;34m=\u001b[0m \u001b[0mdataFiltered\u001b[0m\u001b[0;34m.\u001b[0m\u001b[0mloc\u001b[0m\u001b[0;34m[\u001b[0m\u001b[0mdataFiltered\u001b[0m\u001b[0;34m.\u001b[0m\u001b[0mcluster\u001b[0m\u001b[0;34m==\u001b[0m\u001b[0;36m0\u001b[0m\u001b[0;34m,\u001b[0m\u001b[0;34m[\u001b[0m\u001b[0;34m'Tweet ID'\u001b[0m\u001b[0;34m,\u001b[0m\u001b[0;34m'x'\u001b[0m\u001b[0;34m,\u001b[0m\u001b[0;34m'y'\u001b[0m\u001b[0;34m,\u001b[0m\u001b[0;34m'geometry'\u001b[0m\u001b[0;34m]\u001b[0m\u001b[0;34m]\u001b[0m\u001b[0;34m\u001b[0m\u001b[0m\n\u001b[1;32m      2\u001b[0m \u001b[0;34m\u001b[0m\u001b[0m\n\u001b[0;32m----> 3\u001b[0;31m \u001b[0mgpd\u001b[0m\u001b[0;34m.\u001b[0m\u001b[0mGeoDataFrame\u001b[0m\u001b[0;34m.\u001b[0m\u001b[0mto_file\u001b[0m\u001b[0;34m(\u001b[0m\u001b[0mtoSave\u001b[0m\u001b[0;34m,\u001b[0m\u001b[0;34m'shape/mrNaasir.shp'\u001b[0m\u001b[0;34m)\u001b[0m\u001b[0;34m\u001b[0m\u001b[0m\n\u001b[0m\u001b[1;32m      4\u001b[0m \u001b[0;34m\u001b[0m\u001b[0m\n",
      "\u001b[0;32m/home/pipe/anaconda2/lib/python2.7/site-packages/geopandas/geodataframe.pyc\u001b[0m in \u001b[0;36mto_file\u001b[0;34m(self, filename, driver, schema, **kwargs)\u001b[0m\n\u001b[1;32m    341\u001b[0m         \"\"\"\n\u001b[1;32m    342\u001b[0m         \u001b[0;32mfrom\u001b[0m \u001b[0mgeopandas\u001b[0m\u001b[0;34m.\u001b[0m\u001b[0mio\u001b[0m\u001b[0;34m.\u001b[0m\u001b[0mfile\u001b[0m \u001b[0;32mimport\u001b[0m \u001b[0mto_file\u001b[0m\u001b[0;34m\u001b[0m\u001b[0m\n\u001b[0;32m--> 343\u001b[0;31m         \u001b[0mto_file\u001b[0m\u001b[0;34m(\u001b[0m\u001b[0mself\u001b[0m\u001b[0;34m,\u001b[0m \u001b[0mfilename\u001b[0m\u001b[0;34m,\u001b[0m \u001b[0mdriver\u001b[0m\u001b[0;34m,\u001b[0m \u001b[0mschema\u001b[0m\u001b[0;34m,\u001b[0m \u001b[0;34m**\u001b[0m\u001b[0mkwargs\u001b[0m\u001b[0;34m)\u001b[0m\u001b[0;34m\u001b[0m\u001b[0m\n\u001b[0m\u001b[1;32m    344\u001b[0m \u001b[0;34m\u001b[0m\u001b[0m\n\u001b[1;32m    345\u001b[0m     \u001b[0;32mdef\u001b[0m \u001b[0mto_crs\u001b[0m\u001b[0;34m(\u001b[0m\u001b[0mself\u001b[0m\u001b[0;34m,\u001b[0m \u001b[0mcrs\u001b[0m\u001b[0;34m=\u001b[0m\u001b[0mNone\u001b[0m\u001b[0;34m,\u001b[0m \u001b[0mepsg\u001b[0m\u001b[0;34m=\u001b[0m\u001b[0mNone\u001b[0m\u001b[0;34m,\u001b[0m \u001b[0minplace\u001b[0m\u001b[0;34m=\u001b[0m\u001b[0mFalse\u001b[0m\u001b[0;34m)\u001b[0m\u001b[0;34m:\u001b[0m\u001b[0;34m\u001b[0m\u001b[0m\n",
      "\u001b[0;32m/home/pipe/anaconda2/lib/python2.7/site-packages/geopandas/io/file.pyc\u001b[0m in \u001b[0;36mto_file\u001b[0;34m(df, filename, driver, schema, **kwargs)\u001b[0m\n\u001b[1;32m     59\u001b[0m     \u001b[0mfilename\u001b[0m \u001b[0;34m=\u001b[0m \u001b[0mos\u001b[0m\u001b[0;34m.\u001b[0m\u001b[0mpath\u001b[0m\u001b[0;34m.\u001b[0m\u001b[0mabspath\u001b[0m\u001b[0;34m(\u001b[0m\u001b[0mos\u001b[0m\u001b[0;34m.\u001b[0m\u001b[0mpath\u001b[0m\u001b[0;34m.\u001b[0m\u001b[0mexpanduser\u001b[0m\u001b[0;34m(\u001b[0m\u001b[0mfilename\u001b[0m\u001b[0;34m)\u001b[0m\u001b[0;34m)\u001b[0m\u001b[0;34m\u001b[0m\u001b[0m\n\u001b[1;32m     60\u001b[0m     with fiona.open(filename, 'w', driver=driver, crs=df.crs,\n\u001b[0;32m---> 61\u001b[0;31m                     schema=schema, **kwargs) as c:\n\u001b[0m\u001b[1;32m     62\u001b[0m         \u001b[0;32mfor\u001b[0m \u001b[0mfeature\u001b[0m \u001b[0;32min\u001b[0m \u001b[0mdf\u001b[0m\u001b[0;34m.\u001b[0m\u001b[0miterfeatures\u001b[0m\u001b[0;34m(\u001b[0m\u001b[0;34m)\u001b[0m\u001b[0;34m:\u001b[0m\u001b[0;34m\u001b[0m\u001b[0m\n\u001b[1;32m     63\u001b[0m             \u001b[0mc\u001b[0m\u001b[0;34m.\u001b[0m\u001b[0mwrite\u001b[0m\u001b[0;34m(\u001b[0m\u001b[0mfeature\u001b[0m\u001b[0;34m)\u001b[0m\u001b[0;34m\u001b[0m\u001b[0m\n",
      "\u001b[0;32m/home/pipe/anaconda2/lib/python2.7/site-packages/fiona/__init__.pyc\u001b[0m in \u001b[0;36mopen\u001b[0;34m(path, mode, driver, schema, crs, encoding, layer, vfs, enabled_drivers, crs_wkt)\u001b[0m\n\u001b[1;32m    176\u001b[0m         c = Collection(path, mode, crs=crs, driver=driver, schema=this_schema,\n\u001b[1;32m    177\u001b[0m                        \u001b[0mencoding\u001b[0m\u001b[0;34m=\u001b[0m\u001b[0mencoding\u001b[0m\u001b[0;34m,\u001b[0m \u001b[0mlayer\u001b[0m\u001b[0;34m=\u001b[0m\u001b[0mlayer\u001b[0m\u001b[0;34m,\u001b[0m \u001b[0mvsi\u001b[0m\u001b[0;34m=\u001b[0m\u001b[0mvsi\u001b[0m\u001b[0;34m,\u001b[0m \u001b[0marchive\u001b[0m\u001b[0;34m=\u001b[0m\u001b[0marchive\u001b[0m\u001b[0;34m,\u001b[0m\u001b[0;34m\u001b[0m\u001b[0m\n\u001b[0;32m--> 178\u001b[0;31m                        enabled_drivers=enabled_drivers, crs_wkt=crs_wkt)\n\u001b[0m\u001b[1;32m    179\u001b[0m     \u001b[0;32melse\u001b[0m\u001b[0;34m:\u001b[0m\u001b[0;34m\u001b[0m\u001b[0m\n\u001b[1;32m    180\u001b[0m         raise ValueError(\n",
      "\u001b[0;32m/home/pipe/anaconda2/lib/python2.7/site-packages/fiona/collection.pyc\u001b[0m in \u001b[0;36m__init__\u001b[0;34m(self, path, mode, driver, schema, crs, encoding, layer, vsi, archive, enabled_drivers, crs_wkt, **kwargs)\u001b[0m\n\u001b[1;32m    153\u001b[0m             \u001b[0mself\u001b[0m\u001b[0;34m.\u001b[0m\u001b[0mencoding\u001b[0m \u001b[0;34m=\u001b[0m \u001b[0mencoding\u001b[0m\u001b[0;34m\u001b[0m\u001b[0m\n\u001b[1;32m    154\u001b[0m             \u001b[0mself\u001b[0m\u001b[0;34m.\u001b[0m\u001b[0msession\u001b[0m \u001b[0;34m=\u001b[0m \u001b[0mWritingSession\u001b[0m\u001b[0;34m(\u001b[0m\u001b[0;34m)\u001b[0m\u001b[0;34m\u001b[0m\u001b[0m\n\u001b[0;32m--> 155\u001b[0;31m             \u001b[0mself\u001b[0m\u001b[0;34m.\u001b[0m\u001b[0msession\u001b[0m\u001b[0;34m.\u001b[0m\u001b[0mstart\u001b[0m\u001b[0;34m(\u001b[0m\u001b[0mself\u001b[0m\u001b[0;34m,\u001b[0m \u001b[0;34m**\u001b[0m\u001b[0mkwargs\u001b[0m\u001b[0;34m)\u001b[0m\u001b[0;34m\u001b[0m\u001b[0m\n\u001b[0m\u001b[1;32m    156\u001b[0m             \u001b[0mself\u001b[0m\u001b[0;34m.\u001b[0m\u001b[0mencoding\u001b[0m \u001b[0;34m=\u001b[0m \u001b[0mencoding\u001b[0m \u001b[0;32mor\u001b[0m \u001b[0mself\u001b[0m\u001b[0;34m.\u001b[0m\u001b[0msession\u001b[0m\u001b[0;34m.\u001b[0m\u001b[0mget_fileencoding\u001b[0m\u001b[0;34m(\u001b[0m\u001b[0;34m)\u001b[0m\u001b[0;34m.\u001b[0m\u001b[0mlower\u001b[0m\u001b[0;34m(\u001b[0m\u001b[0;34m)\u001b[0m\u001b[0;34m\u001b[0m\u001b[0m\n\u001b[1;32m    157\u001b[0m \u001b[0;34m\u001b[0m\u001b[0m\n",
      "\u001b[0;32mfiona/ogrext.pyx\u001b[0m in \u001b[0;36mfiona.ogrext.WritingSession.start (fiona/ogrext.c:16535)\u001b[0;34m()\u001b[0m\n",
      "\u001b[0;31mValueError\u001b[0m: Null layer"
     ]
    }
   ],
   "source": [
    "toSave = dataFiltered.loc[dataFiltered.cluster==0,['Tweet ID','x','y','geometry']]\n",
    "\n",
    "gpd.GeoDataFrame.to_file(toSave,'shape/mrNaasir.shp') \n",
    "\n"
   ]
  },
  {
   "cell_type": "code",
   "execution_count": null,
   "metadata": {
    "collapsed": true
   },
   "outputs": [],
   "source": []
  }
 ],
 "metadata": {
  "anaconda-cloud": {},
  "kernelspec": {
   "display_name": "Python [default]",
   "language": "python",
   "name": "python2"
  },
  "language_info": {
   "codemirror_mode": {
    "name": "ipython",
    "version": 2
   },
   "file_extension": ".py",
   "mimetype": "text/x-python",
   "name": "python",
   "nbconvert_exporter": "python",
   "pygments_lexer": "ipython2",
   "version": "2.7.12"
  }
 },
 "nbformat": 4,
 "nbformat_minor": 1
}
